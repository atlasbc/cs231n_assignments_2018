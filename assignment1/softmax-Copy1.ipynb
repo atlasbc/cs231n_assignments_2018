{
 "cells": [
  {
   "cell_type": "markdown",
   "metadata": {},
   "source": [
    "# Softmax exercise\n",
    "\n",
    "*Complete and hand in this completed worksheet (including its outputs and any supporting code outside of the worksheet) with your assignment submission. For more details see the [assignments page](http://vision.stanford.edu/teaching/cs231n/assignments.html) on the course website.*\n",
    "\n",
    "This exercise is analogous to the SVM exercise. You will:\n",
    "\n",
    "- implement a fully-vectorized **loss function** for the Softmax classifier\n",
    "- implement the fully-vectorized expression for its **analytic gradient**\n",
    "- **check your implementation** with numerical gradient\n",
    "- use a validation set to **tune the learning rate and regularization** strength\n",
    "- **optimize** the loss function with **SGD**\n",
    "- **visualize** the final learned weights\n"
   ]
  },
  {
   "cell_type": "code",
   "execution_count": 4,
   "metadata": {},
   "outputs": [
    {
     "name": "stdout",
     "output_type": "stream",
     "text": [
      "The autoreload extension is already loaded. To reload it, use:\n",
      "  %reload_ext autoreload\n"
     ]
    }
   ],
   "source": [
    "from __future__ import print_function\n",
    "import random\n",
    "import numpy as np\n",
    "from cs231n.data_utils import load_CIFAR10\n",
    "import matplotlib.pyplot as plt\n",
    "\n",
    "\n",
    "\n",
    "%matplotlib inline\n",
    "plt.rcParams['figure.figsize'] = (10.0, 8.0) # set default size of plots\n",
    "plt.rcParams['image.interpolation'] = 'nearest'\n",
    "plt.rcParams['image.cmap'] = 'gray'\n",
    "\n",
    "# for auto-reloading extenrnal modules\n",
    "# see http://stackoverflow.com/questions/1907993/autoreload-of-modules-in-ipython\n",
    "%load_ext autoreload\n",
    "%autoreload 2"
   ]
  },
  {
   "cell_type": "code",
   "execution_count": 2,
   "metadata": {},
   "outputs": [
    {
     "name": "stdout",
     "output_type": "stream",
     "text": [
      "Train data shape:  (49000, 3073)\n",
      "Train labels shape:  (49000,)\n",
      "Validation data shape:  (1000, 3073)\n",
      "Validation labels shape:  (1000,)\n",
      "Test data shape:  (1000, 3073)\n",
      "Test labels shape:  (1000,)\n",
      "dev data shape:  (500, 3073)\n",
      "dev labels shape:  (500,)\n"
     ]
    }
   ],
   "source": [
    "def get_CIFAR10_data(num_training=49000, num_validation=1000, num_test=1000, num_dev=500):\n",
    "    \"\"\"\n",
    "    Load the CIFAR-10 dataset from disk and perform preprocessing to prepare\n",
    "    it for the linear classifier. These are the same steps as we used for the\n",
    "    SVM, but condensed to a single function.  \n",
    "    \"\"\"\n",
    "    # Load the raw CIFAR-10 data\n",
    "    cifar10_dir = 'cs231n/datasets/cifar-10-batches-py'\n",
    "    \n",
    "    X_train, y_train, X_test, y_test = load_CIFAR10(cifar10_dir)\n",
    "    \n",
    "    # subsample the data\n",
    "    mask = list(range(num_training, num_training + num_validation))\n",
    "    X_val = X_train[mask]\n",
    "    y_val = y_train[mask]\n",
    "    mask = list(range(num_training))\n",
    "    X_train = X_train[mask]\n",
    "    y_train = y_train[mask]\n",
    "    mask = list(range(num_test))\n",
    "    X_test = X_test[mask]\n",
    "    y_test = y_test[mask]\n",
    "    mask = np.random.choice(num_training, num_dev, replace=False)\n",
    "    X_dev = X_train[mask]\n",
    "    y_dev = y_train[mask]\n",
    "    \n",
    "    # Preprocessing: reshape the image data into rows\n",
    "    X_train = np.reshape(X_train, (X_train.shape[0], -1))\n",
    "    X_val = np.reshape(X_val, (X_val.shape[0], -1))\n",
    "    X_test = np.reshape(X_test, (X_test.shape[0], -1))\n",
    "    X_dev = np.reshape(X_dev, (X_dev.shape[0], -1))\n",
    "    \n",
    "    # Normalize the data: subtract the mean image\n",
    "    mean_image = np.mean(X_train, axis = 0)\n",
    "    X_train -= mean_image\n",
    "    X_val -= mean_image\n",
    "    X_test -= mean_image\n",
    "    X_dev -= mean_image\n",
    "    \n",
    "    # add bias dimension and transform into columns\n",
    "    X_train = np.hstack([X_train, np.ones((X_train.shape[0], 1))])\n",
    "    X_val = np.hstack([X_val, np.ones((X_val.shape[0], 1))])\n",
    "    X_test = np.hstack([X_test, np.ones((X_test.shape[0], 1))])\n",
    "    X_dev = np.hstack([X_dev, np.ones((X_dev.shape[0], 1))])\n",
    "    \n",
    "    return X_train, y_train, X_val, y_val, X_test, y_test, X_dev, y_dev\n",
    "\n",
    "\n",
    "# Cleaning up variables to prevent loading data multiple times (which may cause memory issue)\n",
    "try:\n",
    "   del X_train, y_train\n",
    "   del X_test, y_test\n",
    "   print('Clear previously loaded data.')\n",
    "except:\n",
    "   pass\n",
    "\n",
    "# Invoke the above function to get our data.\n",
    "X_train, y_train, X_val, y_val, X_test, y_test, X_dev, y_dev = get_CIFAR10_data()\n",
    "print('Train data shape: ', X_train.shape)\n",
    "print('Train labels shape: ', y_train.shape)\n",
    "print('Validation data shape: ', X_val.shape)\n",
    "print('Validation labels shape: ', y_val.shape)\n",
    "print('Test data shape: ', X_test.shape)\n",
    "print('Test labels shape: ', y_test.shape)\n",
    "print('dev data shape: ', X_dev.shape)\n",
    "print('dev labels shape: ', y_dev.shape)"
   ]
  },
  {
   "cell_type": "markdown",
   "metadata": {},
   "source": [
    "## Softmax Classifier\n",
    "\n",
    "Your code for this section will all be written inside **cs231n/classifiers/softmax.py**. \n"
   ]
  },
  {
   "cell_type": "code",
   "execution_count": 3,
   "metadata": {},
   "outputs": [
    {
     "name": "stdout",
     "output_type": "stream",
     "text": [
      "loss: 2.363703\n",
      "sanity check: 2.302585\n"
     ]
    }
   ],
   "source": [
    "# First implement the naive softmax loss function with nested loops.\n",
    "# Open the file cs231n/classifiers/softmax.py and implement the\n",
    "# softmax_loss_naive function.\n",
    "\n",
    "from cs231n.classifiers.softmax import softmax_loss_naive\n",
    "import time\n",
    "\n",
    "# Generate a random softmax weight matrix and use it to compute the loss.\n",
    "W = np.random.randn(3073, 10) * 0.0001\n",
    "loss, grad = softmax_loss_naive(W, X_dev, y_dev, 0.0)\n",
    "\n",
    "# As a rough sanity check, our loss should be something close to -log(0.1).\n",
    "print('loss: %f' % loss)\n",
    "print('sanity check: %f' % (-np.log(0.1)))"
   ]
  },
  {
   "cell_type": "markdown",
   "metadata": {},
   "source": [
    "$$f(x, W) = - \\log{(truescore(\\frac{e^{X.dot(W)}}{sum (e^{(X.dot(W))})})}) $$"
   ]
  },
  {
   "cell_type": "code",
   "execution_count": 4,
   "metadata": {},
   "outputs": [
    {
     "data": {
      "text/plain": [
       "((500, 3073), (3073, 10))"
      ]
     },
     "execution_count": 4,
     "metadata": {},
     "output_type": "execute_result"
    }
   ],
   "source": [
    "X_dev.shape, W.shape"
   ]
  },
  {
   "cell_type": "code",
   "execution_count": 6,
   "metadata": {},
   "outputs": [
    {
     "data": {
      "text/plain": [
       "array([[0., 0., 0., ..., 0., 0., 0.],\n",
       "       [0., 0., 0., ..., 0., 0., 0.],\n",
       "       [0., 0., 0., ..., 0., 0., 0.],\n",
       "       ...,\n",
       "       [0., 0., 0., ..., 0., 0., 0.],\n",
       "       [0., 0., 0., ..., 0., 0., 0.],\n",
       "       [0., 0., 0., ..., 0., 0., 0.]])"
      ]
     },
     "execution_count": 6,
     "metadata": {},
     "output_type": "execute_result"
    }
   ],
   "source": [
    "np.zeros(scores.shape)"
   ]
  },
  {
   "cell_type": "code",
   "execution_count": 8,
   "metadata": {},
   "outputs": [
    {
     "name": "stdout",
     "output_type": "stream",
     "text": [
      "2.3684291256287118\n",
      "[[-3.30258445e+00  1.91067564e-01  3.23146204e-01 ... -1.07432520e+00\n",
      "  -6.97318758e-01  2.80702307e+01]\n",
      " [-2.97919271e+00 -2.03882471e-01  2.14099224e-01 ... -1.01489643e+00\n",
      "  -6.24077901e-01  2.70221629e+01]\n",
      " [-2.67890046e+00  1.75384258e-01 -1.40236123e-01 ... -1.05270564e+00\n",
      "  -4.35224148e-01  2.84273612e+01]\n",
      " ...\n",
      " [-2.14623821e+00 -4.46821912e+00  3.83517115e-01 ... -1.13158080e-01\n",
      "  -8.41667247e-01  1.33834471e+01]\n",
      " [-1.71455512e+00 -3.99250254e+00  3.77918718e-01 ... -4.39905364e-01\n",
      "  -7.94512223e-01  1.48705781e+01]\n",
      " [ 2.98973124e-02  7.13917671e-02  1.27874409e-02 ...  2.04510829e-02\n",
      "   3.66829281e-02  3.16310682e-01]]\n"
     ]
    }
   ],
   "source": [
    "reg = 5e1\n",
    "dW= np.zeros(W.shape)\n",
    "scores = np.zeros((X_dev.shape[0], W.shape[1]))\n",
    "dprobs = np.zeros(scores.shape)\n",
    "for i in range(0, X_dev.shape[0]):\n",
    "    for j in range(0, W.shape[1]):\n",
    "        dot = np.sum(X_dev[i, :]*(W[:, j])) #1 (1)\n",
    "        scores[i, j] = dot  #(1)\n",
    "    scores[i, :] -= np.max(scores[i, :]) #avoiding numerical stabilization\n",
    "    scores_exp = np.exp(scores[i, :]) #2 (1,10)\n",
    "    num = scores_exp #3 #numerator (1,10)\n",
    "    den = scores_exp.sum() #3 (1)\n",
    "    invden = 1 / den #3.5 #denumerator > (1) \n",
    "    probs = num * invden #4 #sigmoid is done (1, 10) #broadcast\n",
    "    tclass_prob = probs[y_dev[i]] #5 (1)\n",
    "    tclass_lprob = np.log(tclass_prob) #6 (1)\n",
    "    loss += -(tclass_lprob) #7 (1)\n",
    "    \n",
    "    #derivative with chain rule\n",
    "    dloss = 1\n",
    "    dtclass_lprob = -1*dloss #7 # shape > 1\n",
    "    dtclass_prob = (1/tclass_prob)*dtclass_lprob #6  # shape > 1\n",
    "    \n",
    "    dprobs[i, y_dev[i]] = 1*dtclass_prob\n",
    "    dnum = invden*dprobs[i, :] #(1, 10)\n",
    "    dinvden = num*dprobs[i, :] #(1, 10)\n",
    "    \n",
    "    dden = (-1 / den**2)*dinvden #(1,10) #broadcast\n",
    "\n",
    "    dscores_exp = 1*dnum #(1)\n",
    "    dscores_exp += W.shape[1]*dden #(1,10)broadcast\n",
    "    \n",
    "    ddot = scores[i, :]*dscores_exp #(1,10)\n",
    "    dW += X_dev[i, :].reshape(-1,1).dot(ddot.reshape(1,-1)) # dscores > (1,10) dW > 3073x10\n",
    "    \n",
    "#     dscores_exp = inv_scores_sum*dnormalized_scores #4 # 1 number\n",
    "#     dinv_scores_sum = scores_exp*dnormalized_scores #4 # (1,10), true class score affect all of the classes?\n",
    "    \n",
    "#     dscores_sum = (-1/scores_sum**2)*dinv_scores_sum #4\n",
    "#     dscores_exp += dscores_sum.sum() #3\n",
    "#     dscores_i = np.exp(scores[i, :])*dscores_exp #2\n",
    "#     ddot = scores[i, :] * dscores_i #1\n",
    "#     dW += X_dev[i, :].reshape(W.shape[0],-1) * ddot.reshape(1, -1) \n",
    "#     #ddot*X_dev[i, :]\n",
    "    \n",
    "#     #ddot = ((1 - scores[i, y_dev[i]])*scores[i, y_dev[i]])*d_loss\n",
    "#     #dW[:, y_dev[i]] += X_dev[i, :] * ddot\n",
    "loss = loss / X_dev.shape[0]\n",
    "loss += reg*np.sum(W*W)\n",
    "dW = dW / X_dev.shape[0]\n",
    "dW += reg*2*W\n",
    "print(loss)\n",
    "print(dW)\n",
    "# This is wrong"
   ]
  },
  {
   "cell_type": "code",
   "execution_count": 7,
   "metadata": {},
   "outputs": [
    {
     "data": {
      "text/plain": [
       "((500, 3073), (500, 10), (3073, 10))"
      ]
     },
     "execution_count": 7,
     "metadata": {},
     "output_type": "execute_result"
    }
   ],
   "source": [
    "X_dev.shape, (X_dev.shape[0], W.shape[1]), W.shape"
   ]
  },
  {
   "cell_type": "code",
   "execution_count": 11,
   "metadata": {},
   "outputs": [
    {
     "data": {
      "text/plain": [
       "(1, 3073)"
      ]
     },
     "execution_count": 11,
     "metadata": {},
     "output_type": "execute_result"
    }
   ],
   "source": [
    "X_dev[0, :].reshape(1,-1).shape"
   ]
  },
  {
   "cell_type": "code",
   "execution_count": 19,
   "metadata": {},
   "outputs": [
    {
     "data": {
      "text/plain": [
       "(10,)"
      ]
     },
     "execution_count": 19,
     "metadata": {},
     "output_type": "execute_result"
    }
   ],
   "source": [
    "W[2].shape"
   ]
  },
  {
   "cell_type": "code",
   "execution_count": 23,
   "metadata": {},
   "outputs": [
    {
     "data": {
      "text/plain": [
       "(3073,)"
      ]
     },
     "execution_count": 23,
     "metadata": {},
     "output_type": "execute_result"
    }
   ],
   "source": [
    "(X_dev[2]*softmax[3]).shape"
   ]
  },
  {
   "cell_type": "code",
   "execution_count": 21,
   "metadata": {},
   "outputs": [
    {
     "data": {
      "text/plain": [
       "(3073,)"
      ]
     },
     "execution_count": 21,
     "metadata": {},
     "output_type": "execute_result"
    }
   ],
   "source": [
    "X_dev[1].shape"
   ]
  },
  {
   "cell_type": "code",
   "execution_count": 25,
   "metadata": {},
   "outputs": [
    {
     "name": "stdout",
     "output_type": "stream",
     "text": [
      "2.379192849691707\n",
      "[[-5.47368395e-01 -1.27419918e+00  1.88205005e+00 ... -1.50083110e+00\n",
      "  -4.25679303e+00 -3.46879517e+00]\n",
      " [-1.69290080e+00 -1.16872206e+00  2.12055381e+00 ... -8.01905418e-01\n",
      "  -5.60188356e+00 -3.31415553e+00]\n",
      " [-3.58606160e+00 -8.96670146e-01  3.84501024e+00 ... -6.89355518e-01\n",
      "  -7.47693544e+00 -3.91738414e+00]\n",
      " ...\n",
      " [-1.63739490e+00 -9.28107036e-01  2.40136182e-01 ... -1.06588004e+00\n",
      "   8.00295806e-02 -1.63917251e-01]\n",
      " [-3.18341887e+00 -1.35665173e+00  7.45440626e-01 ...  7.00593840e-01\n",
      "  -1.90780909e+00 -5.92967939e-01]\n",
      " [-1.46709188e-02  9.98736828e-04 -7.56257664e-03 ... -1.52372427e-02\n",
      "   1.61433792e-02 -1.60441344e-03]]\n"
     ]
    }
   ],
   "source": [
    "reg = 5e1\n",
    "loss = 0\n",
    "dW= np.zeros(W.shape)\n",
    "scores = np.zeros((X_dev.shape[0], W.shape[1]))\n",
    "for i in range(0, X_dev.shape[0]):\n",
    "    scores[i, :] = X_dev[i, :].dot(W) #1\n",
    "    scores[i, :] -= np.max(scores[i, :]) # for numerical stabilization\n",
    "    scores_exp = np.exp(scores[i, :])\n",
    "    sum_scores_exp = np.sum(scores_exp)\n",
    "    softmax = scores_exp / sum_scores_exp #2 This is softmax function\n",
    "    loss += -np.log(softmax[y_dev[i]]) # this is loss\n",
    "    for j in range(0, W.shape[1]):\n",
    "        dW[:, j] += X_dev[i]*(softmax[j] - (j == y_dev[i])) \n",
    "loss = loss / X_dev.shape[0]\n",
    "loss += reg*np.sum(W*W)\n",
    "dW = dW / X_dev.shape[0]\n",
    "dW += reg*2*W\n",
    "print(loss)\n",
    "#print(loss)\n",
    "print(dW)\n",
    "# This true one"
   ]
  },
  {
   "cell_type": "code",
   "execution_count": 12,
   "metadata": {},
   "outputs": [
    {
     "data": {
      "text/plain": [
       "(3073,)"
      ]
     },
     "execution_count": 12,
     "metadata": {},
     "output_type": "execute_result"
    }
   ],
   "source": [
    "X_dev[1, :].shape"
   ]
  },
  {
   "cell_type": "markdown",
   "metadata": {},
   "source": [
    "## Inline Question 1:\n",
    "Why do we expect our loss to be close to -log(0.1)? Explain briefly.**\n",
    "\n",
    "**Your answer:** *Initially all weights are close to 0, so scores. If we exponentiate the scores, we get 1 for each class and example. Then we normalize them, they are going to be 1/number of classes. And loss is -log(1/number of classes) which in this case is -log(0.1)*\n"
   ]
  },
  {
   "cell_type": "code",
   "execution_count": 26,
   "metadata": {},
   "outputs": [],
   "source": [
    "np.random.seed(18)"
   ]
  },
  {
   "cell_type": "code",
   "execution_count": 27,
   "metadata": {},
   "outputs": [
    {
     "name": "stdout",
     "output_type": "stream",
     "text": [
      "numerical: 1.873171 analytic: 1.873170, relative error: 2.016002e-08\n",
      "numerical: 1.907278 analytic: 1.907277, relative error: 3.197197e-08\n",
      "numerical: 2.217485 analytic: 2.217485, relative error: 2.637882e-08\n",
      "numerical: 1.433238 analytic: 1.433237, relative error: 3.265327e-08\n",
      "numerical: 0.425800 analytic: 0.425800, relative error: 3.028803e-08\n",
      "numerical: 1.389049 analytic: 1.389049, relative error: 6.411725e-09\n",
      "numerical: -5.564195 analytic: -5.564195, relative error: 3.985556e-09\n",
      "numerical: -0.353025 analytic: -0.353025, relative error: 3.979869e-08\n",
      "numerical: 0.882581 analytic: 0.882581, relative error: 4.994542e-08\n",
      "numerical: 0.882032 analytic: 0.882032, relative error: 3.495774e-08\n",
      "numerical: 2.094539 analytic: 2.094539, relative error: 1.544953e-08\n",
      "numerical: -0.789689 analytic: -0.789689, relative error: 7.070002e-09\n",
      "numerical: 0.206024 analytic: 0.206024, relative error: 2.971616e-07\n",
      "numerical: -2.930770 analytic: -2.930770, relative error: 7.358611e-10\n",
      "numerical: -4.725928 analytic: -4.725928, relative error: 8.706930e-09\n",
      "numerical: -2.874986 analytic: -2.874986, relative error: 3.493154e-08\n",
      "numerical: 1.095118 analytic: 1.095118, relative error: 2.013505e-08\n",
      "numerical: -1.561799 analytic: -1.561799, relative error: 2.309876e-08\n",
      "numerical: -0.066569 analytic: -0.066569, relative error: 5.350795e-07\n",
      "numerical: -1.095275 analytic: -1.095275, relative error: 1.065761e-08\n"
     ]
    }
   ],
   "source": [
    "# Complete the implementation of softmax_loss_naive and implement a (naive)\n",
    "# version of the gradient that uses nested loops.\n",
    "loss, grad = softmax_loss_naive(W, X_dev, y_dev, 0.0)\n",
    "\n",
    "# As we did for the SVM, use numeric gradient checking as a debugging tool.\n",
    "# The numeric gradient should be close to the analytic gradient.\n",
    "from cs231n.gradient_check import grad_check_sparse\n",
    "f = lambda w: softmax_loss_naive(w, X_dev, y_dev, 0.0)[0]\n",
    "grad_numerical = grad_check_sparse(f, W, grad, 10)\n",
    "\n",
    "# similar to SVM case, do another gradient check with regularization\n",
    "loss, grad = softmax_loss_naive(W, X_dev, y_dev, 5e1)\n",
    "f = lambda w: softmax_loss_naive(w, X_dev, y_dev, 5e1)[0]\n",
    "grad_numerical = grad_check_sparse(f, W, grad, 10)"
   ]
  },
  {
   "cell_type": "code",
   "execution_count": 59,
   "metadata": {},
   "outputs": [
    {
     "name": "stdout",
     "output_type": "stream",
     "text": [
      "naive loss: 2.363703e+00 computed in 0.109727s\n",
      "vectorized loss: 2.363703e+00 computed in 0.003198s\n",
      "Loss difference: 0.000000\n",
      "Gradient difference: 0.000000\n"
     ]
    }
   ],
   "source": [
    "# Now that we have a naive implementation of the softmax loss function and its gradient,\n",
    "# implement a vectorized version in softmax_loss_vectorized.\n",
    "# The two versions should compute the same results, but the vectorized version should be\n",
    "# much faster.\n",
    "tic = time.time()\n",
    "loss_naive, grad_naive = softmax_loss_naive(W, X_dev, y_dev, 0.000005)\n",
    "toc = time.time()\n",
    "print('naive loss: %e computed in %fs' % (loss_naive, toc - tic))\n",
    "\n",
    "from cs231n.classifiers.softmax import softmax_loss_vectorized\n",
    "tic = time.time()\n",
    "loss_vectorized, grad_vectorized = softmax_loss_vectorized(W, X_dev, y_dev, 0.000005)\n",
    "toc = time.time()\n",
    "print('vectorized loss: %e computed in %fs' % (loss_vectorized, toc - tic))\n",
    "\n",
    "# As we did for the SVM, we use the Frobenius norm to compare the two versions\n",
    "# of the gradient.\n",
    "grad_difference = np.linalg.norm(grad_naive - grad_vectorized, ord='fro')\n",
    "print('Loss difference: %f' % np.abs(loss_naive - loss_vectorized))\n",
    "print('Gradient difference: %f' % grad_difference)"
   ]
  },
  {
   "cell_type": "code",
   "execution_count": 57,
   "metadata": {},
   "outputs": [
    {
     "name": "stdout",
     "output_type": "stream",
     "text": [
      "2.363702846528864\n",
      "[[-5.38151747e-01 -1.27593777e+00  1.87474659e+00 ... -1.51522495e+00\n",
      "  -4.25594024e+00 -3.47406459e+00]\n",
      " [-1.70647053e+00 -1.16971899e+00  2.10652113e+00 ... -8.11868603e-01\n",
      "  -5.60595574e+00 -3.30486339e+00]\n",
      " [-3.58856488e+00 -8.73149754e-01  3.85559678e+00 ... -7.14540641e-01\n",
      "  -7.47511105e+00 -3.90727226e+00]\n",
      " ...\n",
      " [-1.64411915e+00 -9.38814980e-01  2.48377634e-01 ... -1.06907708e+00\n",
      "   8.49706781e-02 -1.70899359e-01]\n",
      " [-3.17541041e+00 -1.37473675e+00  7.33698032e-01 ...  7.16189511e-01\n",
      "  -1.89618022e+00 -5.86477590e-01]\n",
      " [-9.95622101e-03  1.56193886e-02 -1.02624664e-02 ... -9.43419932e-03\n",
      "   1.39286034e-02  5.86233989e-03]]\n"
     ]
    }
   ],
   "source": [
    "#vectorized loss\n",
    "loss = 0.0\n",
    "dW = np.zeros_like(W)\n",
    "reg = 0.000005\n",
    "#############################################################################\n",
    "# TODO: Compute the softmax loss and its gradient using no explicit loops.  #\n",
    "# Store the loss in loss and the gradient in dW. If you are not careful     #\n",
    "# here, it is easy to run into numeric instability. Don't forget the        #\n",
    "# regularization!                                                           #\n",
    "#############################################################################\n",
    "N = X_dev.shape[0]\n",
    "scores = X_dev.dot(W)\n",
    "scores -= np.max(scores, axis = 1).reshape(N, 1) #for numerical stability\n",
    "exp = np.exp(scores)\n",
    "softmax = exp / exp.sum(axis=1).reshape(N, 1)\n",
    "true_class_probs = softmax[range(0, N), y_dev]\n",
    "losses = -np.log(true_class_probs)\n",
    "\n",
    "#total loss\n",
    "loss = np.sum(losses) / N  \n",
    "# add regularization\n",
    "loss += reg*np.sum(W*W)\n",
    "print(loss)\n",
    "\n",
    "#vectorized dW\n",
    "gama = np.zeros(softmax.shape)\n",
    "gama[range(0, N), y_dev] = 1\n",
    "dW = X_dev.T.dot(softmax - gama)\n",
    "dW = dW / X_dev.shape[0]\n",
    "dW += 2*reg*W \n",
    "print(dW)"
   ]
  },
  {
   "cell_type": "code",
   "execution_count": 39,
   "metadata": {},
   "outputs": [
    {
     "data": {
      "text/plain": [
       "(3073, 10)"
      ]
     },
     "execution_count": 39,
     "metadata": {},
     "output_type": "execute_result"
    }
   ],
   "source": [
    "X_dev.T.dot(softmax).shape"
   ]
  },
  {
   "cell_type": "code",
   "execution_count": 35,
   "metadata": {},
   "outputs": [
    {
     "data": {
      "text/plain": [
       "((3073, 10), (500, 3073), (500, 10))"
      ]
     },
     "execution_count": 35,
     "metadata": {},
     "output_type": "execute_result"
    }
   ],
   "source": [
    "W.shape, X_dev.shape, softmax.shape"
   ]
  },
  {
   "cell_type": "code",
   "execution_count": 60,
   "metadata": {},
   "outputs": [
    {
     "name": "stdout",
     "output_type": "stream",
     "text": [
      "iteration 0 / 1500: loss 771.796035\n",
      "iteration 100 / 1500: loss 283.418456\n",
      "iteration 200 / 1500: loss 105.122459\n",
      "iteration 300 / 1500: loss 39.695857\n",
      "iteration 400 / 1500: loss 15.892416\n",
      "iteration 500 / 1500: loss 7.117263\n",
      "iteration 600 / 1500: loss 3.937407\n",
      "iteration 700 / 1500: loss 2.746157\n",
      "iteration 800 / 1500: loss 2.387738\n",
      "iteration 900 / 1500: loss 2.204839\n",
      "iteration 1000 / 1500: loss 2.082849\n",
      "iteration 1100 / 1500: loss 2.075393\n",
      "iteration 1200 / 1500: loss 2.103925\n",
      "iteration 1300 / 1500: loss 2.036888\n",
      "iteration 1400 / 1500: loss 2.048126\n",
      "That took 5.888890s\n"
     ]
    }
   ],
   "source": [
    "from cs231n.classifiers import Softmax\n",
    "softmax = Softmax()\n",
    "tic = time.time()\n",
    "loss_hist = softmax.train(X_train, y_train, learning_rate=1e-7, reg=2.5e4,\n",
    "                      num_iters=1500, verbose=True)\n",
    "toc = time.time()\n",
    "print('That took %fs' % (toc - tic))"
   ]
  },
  {
   "cell_type": "code",
   "execution_count": 61,
   "metadata": {},
   "outputs": [
    {
     "data": {
      "image/png": "[encoded data removed]",
      "text/plain": [
       "<Figure size 720x576 with 1 Axes>"
      ]
     },
     "metadata": {
      "needs_background": "light"
     },
     "output_type": "display_data"
    }
   ],
   "source": [
    "# A useful debugging strategy is to plot the loss as a function of\n",
    "# iteration number:\n",
    "plt.plot(loss_hist)\n",
    "plt.xlabel('Iteration number')\n",
    "plt.ylabel('Loss value')\n",
    "plt.show()"
   ]
  },
  {
   "cell_type": "code",
   "execution_count": 62,
   "metadata": {},
   "outputs": [
    {
     "name": "stdout",
     "output_type": "stream",
     "text": [
      "training accuracy: 0.325061\n",
      "validation accuracy: 0.340000\n"
     ]
    }
   ],
   "source": [
    "# training and validation set\n",
    "y_train_pred = softmax.predict(X_train)\n",
    "print('training accuracy: %f' % (np.mean(y_train == y_train_pred), ))\n",
    "y_val_pred = softmax.predict(X_val)\n",
    "print('validation accuracy: %f' % (np.mean(y_val == y_val_pred), ))"
   ]
  },
  {
   "cell_type": "code",
   "execution_count": 63,
   "metadata": {},
   "outputs": [
    {
     "name": "stdout",
     "output_type": "stream",
     "text": [
      "iteration 0 / 1200: loss 762.152331\n",
      "iteration 100 / 1200: loss 280.377946\n",
      "iteration 200 / 1200: loss 103.829261\n",
      "iteration 300 / 1200: loss 39.428540\n",
      "iteration 400 / 1200: loss 15.737355\n",
      "iteration 500 / 1200: loss 7.064716\n",
      "iteration 600 / 1200: loss 3.970058\n",
      "iteration 700 / 1200: loss 2.819893\n",
      "iteration 800 / 1200: loss 2.330362\n",
      "iteration 900 / 1200: loss 2.193980\n",
      "iteration 1000 / 1200: loss 2.155190\n",
      "iteration 1100 / 1200: loss 2.128278\n",
      "iteration 0 / 1200: loss 1519.855688\n",
      "iteration 100 / 1200: loss 204.566020\n",
      "iteration 200 / 1200: loss 29.178116\n",
      "iteration 300 / 1200: loss 5.734122\n",
      "iteration 400 / 1200: loss 2.617597\n",
      "iteration 500 / 1200: loss 2.234343\n",
      "iteration 600 / 1200: loss 2.158253\n",
      "iteration 700 / 1200: loss 2.134295\n",
      "iteration 800 / 1200: loss 2.146020\n",
      "iteration 900 / 1200: loss 2.089884\n",
      "iteration 1000 / 1200: loss 2.170265\n",
      "iteration 1100 / 1200: loss 2.129980\n",
      "iteration 0 / 1200: loss 766.563784\n",
      "iteration 100 / 1200: loss 6.847182\n",
      "iteration 200 / 1200: loss 2.079280\n",
      "iteration 300 / 1200: loss 2.096211\n",
      "iteration 400 / 1200: loss 2.102158\n",
      "iteration 500 / 1200: loss 2.113038\n",
      "iteration 600 / 1200: loss 2.126323\n",
      "iteration 700 / 1200: loss 2.095217\n",
      "iteration 800 / 1200: loss 2.090990\n",
      "iteration 900 / 1200: loss 2.070610\n",
      "iteration 1000 / 1200: loss 2.088514\n",
      "iteration 1100 / 1200: loss 2.079464\n",
      "iteration 0 / 1200: loss 1543.012723\n",
      "iteration 100 / 1200: loss 2.184963\n",
      "iteration 200 / 1200: loss 2.165740\n",
      "iteration 300 / 1200: loss 2.177983\n",
      "iteration 400 / 1200: loss 2.199155\n",
      "iteration 500 / 1200: loss 2.113343\n",
      "iteration 600 / 1200: loss 2.170149\n",
      "iteration 700 / 1200: loss 2.125942\n",
      "iteration 800 / 1200: loss 2.123713\n",
      "iteration 900 / 1200: loss 2.165744\n",
      "iteration 1000 / 1200: loss 2.134834\n",
      "iteration 1100 / 1200: loss 2.137923\n",
      "lr 1.000000e-07 reg 2.500000e+04 train accuracy: 0.328327 val accuracy: 0.343000\n",
      "lr 1.000000e-07 reg 5.000000e+04 train accuracy: 0.304102 val accuracy: 0.321000\n",
      "lr 5.000000e-07 reg 2.500000e+04 train accuracy: 0.329327 val accuracy: 0.347000\n",
      "lr 5.000000e-07 reg 5.000000e+04 train accuracy: 0.307531 val accuracy: 0.331000\n",
      "best validation accuracy achieved during cross-validation: 0.347000\n"
     ]
    }
   ],
   "source": [
    "# Use the validation set to tune hyperparameters (regularization strength and\n",
    "# learning rate). You should experiment with different ranges for the learning\n",
    "# rates and regularization strengths; if you are careful you should be able to\n",
    "# get a classification accuracy of over 0.35 on the validation set.\n",
    "from cs231n.classifiers import Softmax\n",
    "results = {}\n",
    "best_val = -1\n",
    "best_softmax = None\n",
    "learning_rates = [1e-7, 5e-7]\n",
    "regularization_strengths = [2.5e4, 5e4]\n",
    "\n",
    "################################################################################\n",
    "# TODO:                                                                        #\n",
    "# Use the validation set to set the learning rate and regularization strength. #\n",
    "# This should be identical to the validation that you did for the SVM; save    #\n",
    "# the best trained softmax classifer in best_softmax.                          #\n",
    "################################################################################\n",
    "# Your code\n",
    "for lr in learning_rates:\n",
    "    for reg in regularization_strengths:\n",
    "        softmax = Softmax()\n",
    "        loss_hist = softmax.train(X_train, y_train, learning_rate=lr, reg=reg,\n",
    "                              num_iters=1200, verbose=True) \n",
    "        y_train_pred = softmax.predict(X_train)\n",
    "        train_accuracy = np.mean(y_train == y_train_pred)\n",
    "        y_val_pred = softmax.predict(X_val)\n",
    "        valid_accuracy = np.mean(y_val == y_val_pred)\n",
    "        results[(lr, reg)] = (train_accuracy, valid_accuracy)\n",
    "        if valid_accuracy > best_val:\n",
    "            best_val = valid_accuracy\n",
    "            best_softmax = softmax\n",
    "################################################################################\n",
    "#                              END OF YOUR CODE                                #\n",
    "################################################################################\n",
    "    \n",
    "# Print out results.\n",
    "for lr, reg in sorted(results):\n",
    "    train_accuracy, val_accuracy = results[(lr, reg)]\n",
    "    print('lr %e reg %e train accuracy: %f val accuracy: %f' % (\n",
    "                lr, reg, train_accuracy, val_accuracy))\n",
    "    \n",
    "print('best validation accuracy achieved during cross-validation: %f' % best_val)"
   ]
  },
  {
   "cell_type": "code",
   "execution_count": 64,
   "metadata": {},
   "outputs": [
    {
     "name": "stdout",
     "output_type": "stream",
     "text": [
      "softmax on raw pixels final test set accuracy: 0.343000\n"
     ]
    }
   ],
   "source": [
    "# evaluate on test set\n",
    "# Evaluate the best softmax on test set\n",
    "y_test_pred = best_softmax.predict(X_test)\n",
    "test_accuracy = np.mean(y_test == y_test_pred)\n",
    "print('softmax on raw pixels final test set accuracy: %f' % (test_accuracy, ))"
   ]
  },
  {
   "cell_type": "markdown",
   "metadata": {},
   "source": [
    "**Inline Question** - *True or False*\n",
    "\n",
    "It's possible to add a new datapoint to a training set that would leave the SVM loss unchanged, but this is not the case with the Softmax classifier loss.\n",
    "\n",
    "*Your answer*:\n",
    "\n",
    "*Your explanation*:"
   ]
  },
  {
   "cell_type": "code",
   "execution_count": 65,
   "metadata": {},
   "outputs": [
    {
     "data": {
      "image/png": "[encoded data removed]",
      "text/plain": [
       "<Figure size 720x576 with 10 Axes>"
      ]
     },
     "metadata": {
      "needs_background": "light"
     },
     "output_type": "display_data"
    }
   ],
   "source": [
    "# Visualize the learned weights for each class\n",
    "w = best_softmax.W[:-1,:] # strip out the bias\n",
    "w = w.reshape(32, 32, 3, 10)\n",
    "\n",
    "w_min, w_max = np.min(w), np.max(w)\n",
    "\n",
    "classes = ['plane', 'car', 'bird', 'cat', 'deer', 'dog', 'frog', 'horse', 'ship', 'truck']\n",
    "for i in range(10):\n",
    "    plt.subplot(2, 5, i + 1)\n",
    "    \n",
    "    # Rescale the weights to be between 0 and 255\n",
    "    wimg = 255.0 * (w[:, :, :, i].squeeze() - w_min) / (w_max - w_min)\n",
    "    plt.imshow(wimg.astype('uint8'))\n",
    "    plt.axis('off')\n",
    "    plt.title(classes[i])"
   ]
  }
 ],
 "metadata": {
  "kernelspec": {
   "display_name": "Python 3",
   "language": "python",
   "name": "python3"
  },
  "language_info": {
   "codemirror_mode": {
    "name": "ipython",
    "version": 3
   },
   "file_extension": ".py",
   "mimetype": "text/x-python",
   "name": "python",
   "nbconvert_exporter": "python",
   "pygments_lexer": "ipython3",
   "version": "3.7.0"
  }
 },
 "nbformat": 4,
 "nbformat_minor": 1
}
