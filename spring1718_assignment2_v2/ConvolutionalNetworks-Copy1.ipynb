{
 "cells": [
  {
   "cell_type": "markdown",
   "metadata": {},
   "source": [
    "# Convolutional Networks\n",
    "So far we have worked with deep fully-connected networks, using them to explore different optimization strategies and network architectures. Fully-connected networks are a good testbed for experimentation because they are very computationally efficient, but in practice all state-of-the-art results use convolutional networks instead.\n",
    "\n",
    "First you will implement several layer types that are used in convolutional networks. You will then use these layers to train a convolutional network on the CIFAR-10 dataset."
   ]
  },
  {
   "cell_type": "code",
   "execution_count": 1,
   "metadata": {},
   "outputs": [],
   "source": [
    "# As usual, a bit of setup\n",
    "import numpy as np\n",
    "import matplotlib.pyplot as plt\n",
    "from cs231n.classifiers.cnn import *\n",
    "from cs231n.data_utils import get_CIFAR10_data\n",
    "from cs231n.gradient_check import eval_numerical_gradient_array, eval_numerical_gradient\n",
    "from cs231n.layers import *\n",
    "from cs231n.fast_layers import *\n",
    "from cs231n.solver import Solver\n",
    "\n",
    "%matplotlib inline\n",
    "plt.rcParams['figure.figsize'] = (10.0, 8.0) # set default size of plots\n",
    "plt.rcParams['image.interpolation'] = 'nearest'\n",
    "plt.rcParams['image.cmap'] = 'gray'\n",
    "\n",
    "# for auto-reloading external modules\n",
    "# see http://stackoverflow.com/questions/1907993/autoreload-of-modules-in-ipython\n",
    "%load_ext autoreload\n",
    "%autoreload 2\n",
    "\n",
    "def rel_error(x, y):\n",
    "  \"\"\" returns relative error \"\"\"\n",
    "  return np.max(np.abs(x - y) / (np.maximum(1e-8, np.abs(x) + np.abs(y))))"
   ]
  },
  {
   "cell_type": "code",
   "execution_count": 2,
   "metadata": {},
   "outputs": [
    {
     "name": "stdout",
     "output_type": "stream",
     "text": [
      "X_train:  (49000, 3, 32, 32)\n",
      "y_train:  (49000,)\n",
      "X_val:  (1000, 3, 32, 32)\n",
      "y_val:  (1000,)\n",
      "X_test:  (1000, 3, 32, 32)\n",
      "y_test:  (1000,)\n"
     ]
    }
   ],
   "source": [
    "# Load the (preprocessed) CIFAR10 data.\n",
    "\n",
    "data = get_CIFAR10_data()\n",
    "for k, v in data.items():\n",
    "  print('%s: ' % k, v.shape)"
   ]
  },
  {
   "cell_type": "code",
   "execution_count": 3,
   "metadata": {},
   "outputs": [
    {
     "name": "stdout",
     "output_type": "stream",
     "text": [
      "(2, 3, 2, 2)\n"
     ]
    }
   ],
   "source": [
    "x_shape = (2, 3, 4, 4) # (N, C, H, W)\n",
    "w_shape = (3, 3, 4, 4) # (F, C, HH, WW) 4x4 receptive filter\n",
    "x = np.linspace(-0.1, 0.5, num=np.prod(x_shape)).reshape(x_shape)\n",
    "w = np.linspace(-0.2, 0.3, num=np.prod(w_shape)).reshape(w_shape) \n",
    "b = np.linspace(-0.1, 0.2, num=3)\n",
    "\n",
    "conv_param = {'stride': 2, 'pad': 1}\n",
    "correct_out = np.array([[[[-0.08759809, -0.10987781],\n",
    "                           [-0.18387192, -0.2109216 ]],\n",
    "                          [[ 0.21027089,  0.21661097],\n",
    "                           [ 0.22847626,  0.23004637]],\n",
    "                          [[ 0.50813986,  0.54309974],\n",
    "                           [ 0.64082444,  0.67101435]]],\n",
    "                         [[[-0.98053589, -1.03143541],\n",
    "                           [-1.19128892, -1.24695841]],\n",
    "                          [[ 0.69108355,  0.66880383],\n",
    "                           [ 0.59480972,  0.56776003]],\n",
    "                          [[ 2.36270298,  2.36904306],\n",
    "                           [ 2.38090835,  2.38247847]]]])\n",
    "print(correct_out.shape)"
   ]
  },
  {
   "cell_type": "code",
   "execution_count": 4,
   "metadata": {},
   "outputs": [],
   "source": [
    "npad = ((0, 0), (1, 1), (1, 1))"
   ]
  },
  {
   "cell_type": "code",
   "execution_count": 5,
   "metadata": {
    "scrolled": true
   },
   "outputs": [
    {
     "name": "stdout",
     "output_type": "stream",
     "text": [
      "(2, 3, 2, 2)\n"
     ]
    }
   ],
   "source": [
    "activation_h = int(1 + (x.shape[2] + 2 * conv_param['pad'] - w.shape[2]) / conv_param['stride'])\n",
    "activation_w = int(1 + (x.shape[3] + 2 * conv_param['pad'] - w.shape[3]) / conv_param['stride'])\n",
    "activation_out = np.zeros((x_shape[0], w_shape[1], activation_h, activation_w) )\n",
    "print(activation_out.shape)"
   ]
  },
  {
   "cell_type": "code",
   "execution_count": 6,
   "metadata": {},
   "outputs": [
    {
     "data": {
      "text/plain": [
       "(2, 2)"
      ]
     },
     "execution_count": 6,
     "metadata": {},
     "output_type": "execute_result"
    }
   ],
   "source": [
    "activation_h, activation_w"
   ]
  },
  {
   "cell_type": "code",
   "execution_count": 7,
   "metadata": {},
   "outputs": [],
   "source": [
    "image_number = 0\n",
    "for image in x:\n",
    "    #image is a 4x4 image that consist of 3 channels\n",
    "    padded_image = np.pad(image[:,:,:], npad, mode = 'constant') # apply zero pad to each channel (3,4,4) > (3,6,6)\n",
    "    s_h = 0\n",
    "    for i in range(0, activation_h): # activations over row\n",
    "        s_w = 0    \n",
    "        for j in range(0, activation_w): #activations over column\n",
    "            activation_out[image_number, :, i, j] = ((padded_image[:, 0+s_h:4+s_h, 0+s_w:4+s_w]*\\\n",
    "                                                      w[:, :, :, :]).reshape(w.shape[0], -1)).sum(axis=1) + b\n",
    "            s_w += 2\n",
    "        s_h += 2   \n",
    "    image_number += 1     "
   ]
  },
  {
   "cell_type": "code",
   "execution_count": 8,
   "metadata": {},
   "outputs": [
    {
     "data": {
      "text/plain": [
       "array([[[[-0.08759809, -0.10987781],\n",
       "         [-0.18387192, -0.2109216 ]],\n",
       "\n",
       "        [[ 0.21027089,  0.21661097],\n",
       "         [ 0.22847626,  0.23004637]],\n",
       "\n",
       "        [[ 0.50813986,  0.54309974],\n",
       "         [ 0.64082444,  0.67101435]]],\n",
       "\n",
       "\n",
       "       [[[-0.98053589, -1.03143541],\n",
       "         [-1.19128892, -1.24695841]],\n",
       "\n",
       "        [[ 0.69108355,  0.66880383],\n",
       "         [ 0.59480972,  0.56776003]],\n",
       "\n",
       "        [[ 2.36270298,  2.36904306],\n",
       "         [ 2.38090835,  2.38247847]]]])"
      ]
     },
     "execution_count": 8,
     "metadata": {},
     "output_type": "execute_result"
    }
   ],
   "source": [
    "activation_out"
   ]
  },
  {
   "cell_type": "code",
   "execution_count": 9,
   "metadata": {},
   "outputs": [],
   "source": [
    "correct_out = np.array([[[[-0.08759809, -0.10987781],\n",
    "                           [-0.18387192, -0.2109216 ]],\n",
    "                          [[ 0.21027089,  0.21661097],\n",
    "                           [ 0.22847626,  0.23004637]],\n",
    "                          [[ 0.50813986,  0.54309974],\n",
    "                           [ 0.64082444,  0.67101435]]],\n",
    "                         [[[-0.98053589, -1.03143541],\n",
    "                           [-1.19128892, -1.24695841]],\n",
    "                          [[ 0.69108355,  0.66880383],\n",
    "                           [ 0.59480972,  0.56776003]],\n",
    "                          [[ 2.36270298,  2.36904306],\n",
    "                           [ 2.38090835,  2.38247847]]]])"
   ]
  },
  {
   "cell_type": "code",
   "execution_count": 10,
   "metadata": {},
   "outputs": [
    {
     "name": "stdout",
     "output_type": "stream",
     "text": [
      "[[0.         0.         0.         0.         0.         0.        ]\n",
      " [0.         0.20315789 0.20947368 0.21578947 0.22210526 0.        ]\n",
      " [0.         0.22842105 0.23473684 0.24105263 0.24736842 0.        ]\n",
      " [0.         0.25368421 0.26       0.26631579 0.27263158 0.        ]\n",
      " [0.         0.27894737 0.28526316 0.29157895 0.29789474 0.        ]\n",
      " [0.         0.         0.         0.         0.         0.        ]]\n"
     ]
    }
   ],
   "source": [
    "print(padded_image[0])"
   ]
  },
  {
   "cell_type": "code",
   "execution_count": 11,
   "metadata": {},
   "outputs": [
    {
     "data": {
      "text/plain": [
       "(3, 6, 6)"
      ]
     },
     "execution_count": 11,
     "metadata": {},
     "output_type": "execute_result"
    }
   ],
   "source": [
    "padded_image.shape # 3 channel 6x6 pixel / w_shape = (3, 3, 4, 4) # (F, C, HH, WW) 4x4 receptive filter"
   ]
  },
  {
   "cell_type": "code",
   "execution_count": 12,
   "metadata": {},
   "outputs": [
    {
     "data": {
      "text/plain": [
       "(3, 3, 4, 4)"
      ]
     },
     "execution_count": 12,
     "metadata": {},
     "output_type": "execute_result"
    }
   ],
   "source": [
    "((padded_image[:, 0:4, 0:4]* w[:, :, :, :])).shape "
   ]
  },
  {
   "cell_type": "code",
   "execution_count": 13,
   "metadata": {},
   "outputs": [
    {
     "data": {
      "text/plain": [
       "array([-0.98053589])"
      ]
     },
     "execution_count": 13,
     "metadata": {},
     "output_type": "execute_result"
    }
   ],
   "source": [
    "((padded_image[:, 0:4, 0:4]* w[0, :, :, :]).reshape(1, -1)).sum(axis=1) + b[0] # result for first filter"
   ]
  },
  {
   "cell_type": "code",
   "execution_count": 14,
   "metadata": {},
   "outputs": [
    {
     "data": {
      "text/plain": [
       "(2, 3, 2, 2)"
      ]
     },
     "execution_count": 14,
     "metadata": {},
     "output_type": "execute_result"
    }
   ],
   "source": [
    "activation_out.shape"
   ]
  },
  {
   "cell_type": "code",
   "execution_count": 22,
   "metadata": {},
   "outputs": [
    {
     "data": {
      "text/plain": [
       "array([[[[-0.08759809,  0.        ],\n",
       "         [ 0.        ,  0.        ]],\n",
       "\n",
       "        [[ 0.21027089,  0.        ],\n",
       "         [ 0.        ,  0.        ]],\n",
       "\n",
       "        [[ 0.50813986,  0.        ],\n",
       "         [ 0.        ,  0.        ]]],\n",
       "\n",
       "\n",
       "       [[[ 0.        ,  0.        ],\n",
       "         [ 0.        ,  0.        ]],\n",
       "\n",
       "        [[ 0.        ,  0.        ],\n",
       "         [ 0.        ,  0.        ]],\n",
       "\n",
       "        [[ 0.        ,  0.        ],\n",
       "         [ 0.        ,  0.        ]]]])"
      ]
     },
     "execution_count": 22,
     "metadata": {},
     "output_type": "execute_result"
    }
   ],
   "source": [
    "activation_out[0, :, 0, 0] = ((padded_image[:, 0:4, 0:4]* w[:, :, :, :]).reshape(w.shape[0], -1)).sum(axis=1) + b\n",
    "activation_out "
   ]
  },
  {
   "cell_type": "code",
   "execution_count": 41,
   "metadata": {},
   "outputs": [
    {
     "name": "stdout",
     "output_type": "stream",
     "text": [
      "(3, 4, 4)\n"
     ]
    },
    {
     "data": {
      "text/plain": [
       "(None, (3, 3, 4, 4))"
      ]
     },
     "execution_count": 41,
     "metadata": {},
     "output_type": "execute_result"
    }
   ],
   "source": [
    "print(padded_image[:, 0:4, 0:4].shape), w[:, :, :, :].shape"
   ]
  },
  {
   "cell_type": "code",
   "execution_count": 44,
   "metadata": {},
   "outputs": [
    {
     "name": "stdout",
     "output_type": "stream",
     "text": [
      "(1, 3, 4, 4)\n"
     ]
    }
   ],
   "source": [
    "print(padded_image[np.newaxis, :, 0:4, 0:4].shape)"
   ]
  },
  {
   "cell_type": "code",
   "execution_count": 45,
   "metadata": {},
   "outputs": [
    {
     "data": {
      "text/plain": [
       "array([[[[-0.        , -0.        , -0.        , -0.        ],\n",
       "         [-0.        , -0.03707987, -0.03750018, -0.03787633],\n",
       "         [-0.        , -0.03849614, -0.03873979, -0.03893927],\n",
       "         [-0.        , -0.03920574, -0.03927273, -0.03929555]],\n",
       "\n",
       "        [[-0.        , -0.        , -0.        , -0.        ],\n",
       "         [-0.        , -0.03850497, -0.03821862, -0.03788811],\n",
       "         [-0.        , -0.03709459, -0.03663158, -0.0361244 ],\n",
       "         [-0.        , -0.03497755, -0.03433787, -0.03365403]],\n",
       "\n",
       "        [[-0.        , -0.        , -0.        , -0.        ],\n",
       "         [-0.        , -0.02862348, -0.02763047, -0.0265933 ],\n",
       "         [-0.        , -0.02438646, -0.02321678, -0.02200294],\n",
       "         [-0.        , -0.01944277, -0.01809643, -0.01670593]]],\n",
       "\n",
       "\n",
       "       [[[-0.        , -0.        , -0.        , -0.        ],\n",
       "         [-0.        , -0.00298344, -0.00234376, -0.00165992],\n",
       "         [-0.        , -0.00015974,  0.00065661,  0.00151711],\n",
       "         [ 0.        ,  0.00337063,  0.00436364,  0.00540081]],\n",
       "\n",
       "        [[ 0.        ,  0.        ,  0.        ,  0.        ],\n",
       "         [ 0.        ,  0.01255134,  0.01389768,  0.01528819],\n",
       "         [ 0.        ,  0.01820169,  0.0197247 ,  0.02129187],\n",
       "         [ 0.        ,  0.0245587 ,  0.02625837,  0.02800221]],\n",
       "\n",
       "        [[ 0.        ,  0.        ,  0.        ,  0.        ],\n",
       "         [ 0.        ,  0.03939271,  0.04144571,  0.04354288],\n",
       "         [ 0.        ,  0.04786971,  0.05009937,  0.05237321],\n",
       "         [ 0.        ,  0.05705337,  0.0594597 ,  0.0619102 ]]],\n",
       "\n",
       "\n",
       "       [[[ 0.        ,  0.        ,  0.        ,  0.        ],\n",
       "         [ 0.        ,  0.03111299,  0.03281266,  0.0345565 ],\n",
       "         [ 0.        ,  0.03817667,  0.040053  ,  0.0419735 ],\n",
       "         [ 0.        ,  0.045947  ,  0.048     ,  0.05009717]],\n",
       "\n",
       "        [[ 0.        ,  0.        ,  0.        ,  0.        ],\n",
       "         [ 0.        ,  0.06360766,  0.06601399,  0.06846448],\n",
       "         [ 0.        ,  0.07349798,  0.07608097,  0.07870813],\n",
       "         [ 0.        ,  0.08409496,  0.08685462,  0.08965845]],\n",
       "\n",
       "        [[ 0.        ,  0.        ,  0.        ,  0.        ],\n",
       "         [ 0.        ,  0.10740891,  0.1105219 ,  0.11367906],\n",
       "         [ 0.        ,  0.12012587,  0.12341553,  0.12674936],\n",
       "         [ 0.        ,  0.1335495 ,  0.13701583,  0.14052632]]]])"
      ]
     },
     "execution_count": 45,
     "metadata": {},
     "output_type": "execute_result"
    }
   ],
   "source": [
    "padded_image[np.newaxis, :, 0:4, 0:4]* w[:, :, :, :]"
   ]
  },
  {
   "cell_type": "code",
   "execution_count": 46,
   "metadata": {},
   "outputs": [
    {
     "name": "stdout",
     "output_type": "stream",
     "text": [
      "[[[[-0.         -0.         -0.         -0.        ]\n",
      "   [-0.         -0.03707987 -0.03750018 -0.03787633]\n",
      "   [-0.         -0.03849614 -0.03873979 -0.03893927]\n",
      "   [-0.         -0.03920574 -0.03927273 -0.03929555]]\n",
      "\n",
      "  [[-0.         -0.         -0.         -0.        ]\n",
      "   [-0.         -0.03850497 -0.03821862 -0.03788811]\n",
      "   [-0.         -0.03709459 -0.03663158 -0.0361244 ]\n",
      "   [-0.         -0.03497755 -0.03433787 -0.03365403]]\n",
      "\n",
      "  [[-0.         -0.         -0.         -0.        ]\n",
      "   [-0.         -0.02862348 -0.02763047 -0.0265933 ]\n",
      "   [-0.         -0.02438646 -0.02321678 -0.02200294]\n",
      "   [-0.         -0.01944277 -0.01809643 -0.01670593]]]\n",
      "\n",
      "\n",
      " [[[-0.         -0.         -0.         -0.        ]\n",
      "   [-0.         -0.00298344 -0.00234376 -0.00165992]\n",
      "   [-0.         -0.00015974  0.00065661  0.00151711]\n",
      "   [ 0.          0.00337063  0.00436364  0.00540081]]\n",
      "\n",
      "  [[ 0.          0.          0.          0.        ]\n",
      "   [ 0.          0.01255134  0.01389768  0.01528819]\n",
      "   [ 0.          0.01820169  0.0197247   0.02129187]\n",
      "   [ 0.          0.0245587   0.02625837  0.02800221]]\n",
      "\n",
      "  [[ 0.          0.          0.          0.        ]\n",
      "   [ 0.          0.03939271  0.04144571  0.04354288]\n",
      "   [ 0.          0.04786971  0.05009937  0.05237321]\n",
      "   [ 0.          0.05705337  0.0594597   0.0619102 ]]]\n",
      "\n",
      "\n",
      " [[[ 0.          0.          0.          0.        ]\n",
      "   [ 0.          0.03111299  0.03281266  0.0345565 ]\n",
      "   [ 0.          0.03817667  0.040053    0.0419735 ]\n",
      "   [ 0.          0.045947    0.048       0.05009717]]\n",
      "\n",
      "  [[ 0.          0.          0.          0.        ]\n",
      "   [ 0.          0.06360766  0.06601399  0.06846448]\n",
      "   [ 0.          0.07349798  0.07608097  0.07870813]\n",
      "   [ 0.          0.08409496  0.08685462  0.08965845]]\n",
      "\n",
      "  [[ 0.          0.          0.          0.        ]\n",
      "   [ 0.          0.10740891  0.1105219   0.11367906]\n",
      "   [ 0.          0.12012587  0.12341553  0.12674936]\n",
      "   [ 0.          0.1335495   0.13701583  0.14052632]]]]\n"
     ]
    }
   ],
   "source": [
    "print(padded_image[:, 0:4, 0:4]* w[:, :, :, :])"
   ]
  },
  {
   "cell_type": "code",
   "execution_count": 37,
   "metadata": {},
   "outputs": [
    {
     "data": {
      "text/plain": [
       "array([-0.98053589,  0.69108355,  2.36270298])"
      ]
     },
     "execution_count": 37,
     "metadata": {},
     "output_type": "execute_result"
    }
   ],
   "source": [
    "((padded_image[:, 0:4, 0:4]* w[:, :, :, :]).reshape(w.shape[0], -1)).sum(axis=1) + b # result per each filter"
   ]
  },
  {
   "cell_type": "code",
   "execution_count": 25,
   "metadata": {},
   "outputs": [
    {
     "data": {
      "text/plain": [
       "array([-0.18387192,  0.22847626,  0.64082444])"
      ]
     },
     "execution_count": 25,
     "metadata": {},
     "output_type": "execute_result"
    }
   ],
   "source": [
    "((padded_image[:, 2:6, 0:4]* w[:, :, :, :]).reshape(w.shape[0], -1)).sum(axis=1) + b # result per each filter"
   ]
  },
  {
   "cell_type": "code",
   "execution_count": 13,
   "metadata": {},
   "outputs": [],
   "source": [
    "correct_out = np.array([[[[-0.08759809, -0.10987781],\n",
    "                           [-0.18387192, -0.2109216 ]],\n",
    "                          [[ 0.21027089,  0.21661097],\n",
    "                           [ 0.22847626,  0.23004637]],\n",
    "                          [[ 0.50813986,  0.54309974],\n",
    "                           [ 0.64082444,  0.67101435]]],\n",
    "                         [[[-0.98053589, -1.03143541],\n",
    "                           [-1.19128892, -1.24695841]],\n",
    "                          [[ 0.69108355,  0.66880383],\n",
    "                           [ 0.59480972,  0.56776003]],\n",
    "                          [[ 2.36270298,  2.36904306],\n",
    "                           [ 2.38090835,  2.38247847]]]])"
   ]
  },
  {
   "cell_type": "markdown",
   "metadata": {},
   "source": [
    "- **First loop over examples**\n",
    "- **Second loop over width and height**"
   ]
  },
  {
   "cell_type": "code",
   "execution_count": 59,
   "metadata": {},
   "outputs": [
    {
     "name": "stdout",
     "output_type": "stream",
     "text": [
      "[[-0.         -0.         -0.         -0.        ]\n",
      " [-0.          0.01825175  0.01677144  0.0153353 ]\n",
      " [-0.          0.01259551  0.01129187  0.01003239]\n",
      " [-0.          0.00764593  0.00651895  0.00543614]]\n"
     ]
    }
   ],
   "source": [
    "print(padded_x[0, 0:4, 0:4]* w[0, 0, :, :]) # one channel of filter is applied"
   ]
  },
  {
   "cell_type": "code",
   "execution_count": 46,
   "metadata": {},
   "outputs": [
    {
     "name": "stdout",
     "output_type": "stream",
     "text": [
      "[[[-0.00000000e+00 -0.00000000e+00 -0.00000000e+00 -0.00000000e+00]\n",
      "  [-0.00000000e+00  1.46853147e-03  1.04821494e-03  6.72064777e-04]\n",
      "  [-0.00000000e+00  5.22635259e-05 -1.91387560e-04 -3.90872286e-04]\n",
      "  [ 0.00000000e+00 -6.57342657e-04 -7.24328303e-04 -7.47147589e-04]]\n",
      "\n",
      " [[ 0.00000000e+00  0.00000000e+00  0.00000000e+00  0.00000000e+00]\n",
      "  [ 0.00000000e+00  4.34302540e-05  3.29775488e-04  6.60287081e-04]\n",
      "  [ 0.00000000e+00  1.45380935e-03  1.91682002e-03  2.42399706e-03]\n",
      "  [ 0.00000000e+00  3.57085020e-03  4.21052632e-03  4.89436879e-03]]\n",
      "\n",
      " [[ 0.00000000e+00  0.00000000e+00  0.00000000e+00  0.00000000e+00]\n",
      "  [ 0.00000000e+00  9.92491719e-03  1.09179242e-02  1.19550975e-02]\n",
      "  [ 0.00000000e+00  1.41619433e-02  1.53316158e-02  1.65454545e-02]\n",
      "  [ 0.00000000e+00  1.91056312e-02  2.04519691e-02  2.18424733e-02]]]\n"
     ]
    }
   ],
   "source": [
    "print(padded_x[:, 0:4, 0:4]* w[1, :, :, :]) # one channel of filter is applied"
   ]
  },
  {
   "cell_type": "code",
   "execution_count": 36,
   "metadata": {},
   "outputs": [
    {
     "ename": "NameError",
     "evalue": "name 'padded_x' is not defined",
     "output_type": "error",
     "traceback": [
      "\u001b[0;31m---------------------------------------------------------------------------\u001b[0m",
      "\u001b[0;31mNameError\u001b[0m                                 Traceback (most recent call last)",
      "\u001b[0;32m<ipython-input-36-2e6539ffbe4e>\u001b[0m in \u001b[0;36m<module>\u001b[0;34m\u001b[0m\n\u001b[0;32m----> 1\u001b[0;31m \u001b[0mprint\u001b[0m\u001b[0;34m(\u001b[0m\u001b[0mpadded_x\u001b[0m\u001b[0;34m[\u001b[0m\u001b[0;34m:\u001b[0m\u001b[0;34m,\u001b[0m \u001b[0;36m0\u001b[0m\u001b[0;34m:\u001b[0m\u001b[0;36m4\u001b[0m\u001b[0;34m,\u001b[0m \u001b[0;36m0\u001b[0m\u001b[0;34m:\u001b[0m\u001b[0;36m4\u001b[0m\u001b[0;34m]\u001b[0m\u001b[0;34m*\u001b[0m \u001b[0mw\u001b[0m\u001b[0;34m[\u001b[0m\u001b[0;34m:\u001b[0m\u001b[0;34m,\u001b[0m \u001b[0;34m:\u001b[0m\u001b[0;34m,\u001b[0m \u001b[0;34m:\u001b[0m\u001b[0;34m,\u001b[0m \u001b[0;34m:\u001b[0m\u001b[0;34m]\u001b[0m\u001b[0;34m)\u001b[0m \u001b[0;31m# three channel of filter is applied with broadcasting\u001b[0m\u001b[0;34m\u001b[0m\u001b[0m\n\u001b[0m",
      "\u001b[0;31mNameError\u001b[0m: name 'padded_x' is not defined"
     ]
    }
   ],
   "source": [
    "print(padded_x[:, 0:4, 0:4]* w[:, :, :, :]) # three channel of filter is applied with broadcasting"
   ]
  },
  {
   "cell_type": "code",
   "execution_count": 57,
   "metadata": {},
   "outputs": [
    {
     "data": {
      "text/plain": [
       "0.4808126610231872"
      ]
     },
     "execution_count": 57,
     "metadata": {},
     "output_type": "execute_result"
    }
   ],
   "source": [
    "np.sum(padded_x[:, 0:4, 0:4]* w[:, :, :, :])"
   ]
  },
  {
   "cell_type": "markdown",
   "metadata": {},
   "source": [
    "# Convolution: Naive forward pass\n",
    "The core of a convolutional network is the convolution operation. In the file `cs231n/layers.py`, implement the forward pass for the convolution layer in the function `conv_forward_naive`. \n",
    "\n",
    "You don't have to worry too much about efficiency at this point; just write the code in whatever way you find most clear.\n",
    "\n",
    "You can test your implementation by running the following:"
   ]
  },
  {
   "cell_type": "code",
   "execution_count": 3,
   "metadata": {},
   "outputs": [
    {
     "name": "stdout",
     "output_type": "stream",
     "text": [
      "Testing conv_forward_naive\n",
      "difference:  2.2121476417505994e-08\n"
     ]
    }
   ],
   "source": [
    "x_shape = (2, 3, 4, 4)\n",
    "w_shape = (3, 3, 4, 4)\n",
    "x = np.linspace(-0.1, 0.5, num=np.prod(x_shape)).reshape(x_shape)\n",
    "w = np.linspace(-0.2, 0.3, num=np.prod(w_shape)).reshape(w_shape)\n",
    "b = np.linspace(-0.1, 0.2, num=3)\n",
    "\n",
    "conv_param = {'stride': 2, 'pad': 1}\n",
    "out, _ = conv_forward_naive(x, w, b, conv_param)\n",
    "correct_out = np.array([[[[-0.08759809, -0.10987781],\n",
    "                           [-0.18387192, -0.2109216 ]],\n",
    "                          [[ 0.21027089,  0.21661097],\n",
    "                           [ 0.22847626,  0.23004637]],\n",
    "                          [[ 0.50813986,  0.54309974],\n",
    "                           [ 0.64082444,  0.67101435]]],\n",
    "                         [[[-0.98053589, -1.03143541],\n",
    "                           [-1.19128892, -1.24695841]],\n",
    "                          [[ 0.69108355,  0.66880383],\n",
    "                           [ 0.59480972,  0.56776003]],\n",
    "                          [[ 2.36270298,  2.36904306],\n",
    "                           [ 2.38090835,  2.38247847]]]])\n",
    "\n",
    "# Compare your output to ours; difference should be around e-8\n",
    "print('Testing conv_forward_naive')\n",
    "print('difference: ', rel_error(out, correct_out))"
   ]
  },
  {
   "cell_type": "markdown",
   "metadata": {},
   "source": [
    "# Aside: Image processing via convolutions\n",
    "\n",
    "As fun way to both check your implementation and gain a better understanding of the type of operation that convolutional layers can perform, we will set up an input containing two images and manually set up filters that perform common image processing operations (grayscale conversion and edge detection). The convolution forward pass will apply these operations to each of the input images. We can then visualize the results as a sanity check."
   ]
  },
  {
   "cell_type": "code",
   "execution_count": 4,
   "metadata": {},
   "outputs": [
    {
     "name": "stderr",
     "output_type": "stream",
     "text": [
      "/opt/anaconda3/lib/python3.7/site-packages/ipykernel_launcher.py:3: DeprecationWarning: `imread` is deprecated!\n",
      "`imread` is deprecated in SciPy 1.0.0, and will be removed in 1.2.0.\n",
      "Use ``imageio.imread`` instead.\n",
      "  This is separate from the ipykernel package so we can avoid doing imports until\n",
      "/opt/anaconda3/lib/python3.7/site-packages/ipykernel_launcher.py:10: DeprecationWarning: `imresize` is deprecated!\n",
      "`imresize` is deprecated in SciPy 1.0.0, and will be removed in 1.2.0.\n",
      "Use ``skimage.transform.resize`` instead.\n",
      "  # Remove the CWD from sys.path while we load stuff.\n",
      "/opt/anaconda3/lib/python3.7/site-packages/ipykernel_launcher.py:11: DeprecationWarning: `imresize` is deprecated!\n",
      "`imresize` is deprecated in SciPy 1.0.0, and will be removed in 1.2.0.\n",
      "Use ``skimage.transform.resize`` instead.\n",
      "  # This is added back by InteractiveShellApp.init_path()\n"
     ]
    },
    {
     "data": {
      "image/png": "[encoded data removed]",
      "text/plain": [
       "<Figure size 432x288 with 6 Axes>"
      ]
     },
     "metadata": {
      "needs_background": "light"
     },
     "output_type": "display_data"
    }
   ],
   "source": [
    "from scipy.misc import imread, imresize\n",
    "\n",
    "kitten, puppy = imread('kitten.jpg'), imread('puppy.jpg')\n",
    "# kitten is wide, and puppy is already square\n",
    "d = kitten.shape[1] - kitten.shape[0]\n",
    "kitten_cropped = kitten[:, d//2:-d//2, :]\n",
    "\n",
    "img_size = 200   # Make this smaller if it runs too slow\n",
    "x = np.zeros((2, 3, img_size, img_size))\n",
    "x[0, :, :, :] = imresize(puppy, (img_size, img_size)).transpose((2, 0, 1))\n",
    "x[1, :, :, :] = imresize(kitten_cropped, (img_size, img_size)).transpose((2, 0, 1))\n",
    "\n",
    "# Set up a convolutional weights holding 2 filters, each 3x3\n",
    "w = np.zeros((2, 3, 3, 3))\n",
    "\n",
    "# The first filter converts the image to grayscale.\n",
    "# Set up the red, green, and blue channels of the filter.\n",
    "w[0, 0, :, :] = [[0, 0, 0], [0, 0.3, 0], [0, 0, 0]]\n",
    "w[0, 1, :, :] = [[0, 0, 0], [0, 0.6, 0], [0, 0, 0]]\n",
    "w[0, 2, :, :] = [[0, 0, 0], [0, 0.1, 0], [0, 0, 0]]\n",
    "\n",
    "# Second filter detects horizontal edges in the blue channel.\n",
    "w[1, 2, :, :] = [[1, 2, 1], [0, 0, 0], [-1, -2, -1]]\n",
    "\n",
    "# Vector of biases. We don't need any bias for the grayscale\n",
    "# filter, but for the edge detection filter we want to add 128\n",
    "# to each output so that nothing is negative.\n",
    "b = np.array([0, 128])\n",
    "\n",
    "# Compute the result of convolving each input in x with each filter in w,\n",
    "# offsetting by b, and storing the results in out.\n",
    "out, _ = conv_forward_naive(x, w, b, {'stride': 1, 'pad': 1})\n",
    "\n",
    "def imshow_noax(img, normalize=True):\n",
    "    \"\"\" Tiny helper to show images as uint8 and remove axis labels \"\"\"\n",
    "    if normalize:\n",
    "        img_max, img_min = np.max(img), np.min(img)\n",
    "        img = 255.0 * (img - img_min) / (img_max - img_min)\n",
    "    plt.imshow(img.astype('uint8'))\n",
    "    plt.gca().axis('off')\n",
    "\n",
    "# Show the original images and the results of the conv operation\n",
    "plt.subplot(2, 3, 1)\n",
    "imshow_noax(puppy, normalize=False)\n",
    "plt.title('Original image')\n",
    "plt.subplot(2, 3, 2)\n",
    "imshow_noax(out[0, 0])\n",
    "plt.title('Grayscale')\n",
    "plt.subplot(2, 3, 3)\n",
    "imshow_noax(out[0, 1])\n",
    "plt.title('Edges')\n",
    "plt.subplot(2, 3, 4)\n",
    "imshow_noax(kitten_cropped, normalize=False)\n",
    "plt.subplot(2, 3, 5)\n",
    "imshow_noax(out[1, 0])\n",
    "plt.subplot(2, 3, 6)\n",
    "imshow_noax(out[1, 1])\n",
    "plt.show()"
   ]
  },
  {
   "cell_type": "markdown",
   "metadata": {},
   "source": [
    "# Convolution: Naive backward pass\n",
    "Implement the backward pass for the convolution operation in the function `conv_backward_naive` in the file `cs231n/layers.py`. Again, you don't need to worry too much about computational efficiency.\n",
    "\n",
    "When you are done, run the following to check your backward pass with a numeric gradient check."
   ]
  },
  {
   "cell_type": "code",
   "execution_count": 5,
   "metadata": {},
   "outputs": [
    {
     "name": "stdout",
     "output_type": "stream",
     "text": [
      "Testing conv_backward_naive function\n",
      "dx error:  1.159803161159293e-08\n",
      "dw error:  2.2471264748452487e-10\n",
      "db error:  3.37264006649648e-11\n"
     ]
    }
   ],
   "source": [
    "np.random.seed(231)\n",
    "x = np.random.randn(4, 3, 5, 5)\n",
    "w = np.random.randn(2, 3, 3, 3)\n",
    "b = np.random.randn(2,)\n",
    "dout = np.random.randn(4, 2, 5, 5)\n",
    "conv_param = {'stride': 1, 'pad': 1}\n",
    "\n",
    "dx_num = eval_numerical_gradient_array(lambda x: conv_forward_naive(x, w, b, conv_param)[0], x, dout)\n",
    "dw_num = eval_numerical_gradient_array(lambda w: conv_forward_naive(x, w, b, conv_param)[0], w, dout)\n",
    "db_num = eval_numerical_gradient_array(lambda b: conv_forward_naive(x, w, b, conv_param)[0], b, dout)\n",
    "\n",
    "out, cache = conv_forward_naive(x, w, b, conv_param)\n",
    "dx, dw, db = conv_backward_naive(dout, cache)\n",
    "\n",
    "# Your errors should be around e-8 or less.\n",
    "print('Testing conv_backward_naive function')\n",
    "print('dx error: ', rel_error(dx, dx_num))\n",
    "print('dw error: ', rel_error(dw, dw_num))\n",
    "print('db error: ', rel_error(db, db_num))"
   ]
  },
  {
   "cell_type": "code",
   "execution_count": 79,
   "metadata": {},
   "outputs": [],
   "source": [
    "x_toy = 2*np.ones((3, 3, 3))\n",
    "x_toy[1] = 5*np.ones((3, 3))\n",
    "x_toy[2] = 7*np.ones((3, 3))"
   ]
  },
  {
   "cell_type": "code",
   "execution_count": 80,
   "metadata": {},
   "outputs": [
    {
     "data": {
      "text/plain": [
       "array([[[2., 2., 2.],\n",
       "        [2., 2., 2.],\n",
       "        [2., 2., 2.]],\n",
       "\n",
       "       [[5., 5., 5.],\n",
       "        [5., 5., 5.],\n",
       "        [5., 5., 5.]],\n",
       "\n",
       "       [[7., 7., 7.],\n",
       "        [7., 7., 7.],\n",
       "        [7., 7., 7.]]])"
      ]
     },
     "execution_count": 80,
     "metadata": {},
     "output_type": "execute_result"
    }
   ],
   "source": [
    "x_toy"
   ]
  },
  {
   "cell_type": "code",
   "execution_count": 81,
   "metadata": {},
   "outputs": [
    {
     "name": "stdout",
     "output_type": "stream",
     "text": [
      "[[[[3.]]]\n",
      "\n",
      "\n",
      " [[[5.]]]]\n"
     ]
    }
   ],
   "source": [
    "dout_toy = 3*np.ones(2)\n",
    "dout_toy[1] = 5\n",
    "dout_toy = dout_toy[:, np.newaxis, np.newaxis, np.newaxis]\n",
    "print(dout_toy)"
   ]
  },
  {
   "cell_type": "code",
   "execution_count": 90,
   "metadata": {},
   "outputs": [
    {
     "data": {
      "text/plain": [
       "array([[[[0.22222222, 0.22222222, 0.22222222],\n",
       "         [0.22222222, 0.22222222, 0.22222222],\n",
       "         [0.22222222, 0.22222222, 0.22222222]],\n",
       "\n",
       "        [[0.55555556, 0.55555556, 0.55555556],\n",
       "         [0.55555556, 0.55555556, 0.55555556],\n",
       "         [0.55555556, 0.55555556, 0.55555556]],\n",
       "\n",
       "        [[0.77777778, 0.77777778, 0.77777778],\n",
       "         [0.77777778, 0.77777778, 0.77777778],\n",
       "         [0.77777778, 0.77777778, 0.77777778]]],\n",
       "\n",
       "\n",
       "       [[[0.37037037, 0.37037037, 0.37037037],\n",
       "         [0.37037037, 0.37037037, 0.37037037],\n",
       "         [0.37037037, 0.37037037, 0.37037037]],\n",
       "\n",
       "        [[0.92592593, 0.92592593, 0.92592593],\n",
       "         [0.92592593, 0.92592593, 0.92592593],\n",
       "         [0.92592593, 0.92592593, 0.92592593]],\n",
       "\n",
       "        [[1.2962963 , 1.2962963 , 1.2962963 ],\n",
       "         [1.2962963 , 1.2962963 , 1.2962963 ],\n",
       "         [1.2962963 , 1.2962963 , 1.2962963 ]]]])"
      ]
     },
     "execution_count": 90,
     "metadata": {},
     "output_type": "execute_result"
    }
   ],
   "source": [
    "(x_toy*(dout_toy/27))"
   ]
  },
  {
   "cell_type": "code",
   "execution_count": 91,
   "metadata": {},
   "outputs": [
    {
     "data": {
      "text/plain": [
       "(2, 3, 3, 3)"
      ]
     },
     "execution_count": 91,
     "metadata": {},
     "output_type": "execute_result"
    }
   ],
   "source": [
    "(x_toy*(dout_toy/27)).shape"
   ]
  },
  {
   "cell_type": "markdown",
   "metadata": {},
   "source": [
    "# Max-Pooling: Naive forward\n",
    "Implement the forward pass for the max-pooling operation in the function `max_pool_forward_naive` in the file `cs231n/layers.py`. Again, don't worry too much about computational efficiency.\n",
    "\n",
    "Check your implementation by running the following:"
   ]
  },
  {
   "cell_type": "code",
   "execution_count": 6,
   "metadata": {},
   "outputs": [
    {
     "name": "stdout",
     "output_type": "stream",
     "text": [
      "Testing max_pool_forward_naive function:\n",
      "difference:  4.1666665157267834e-08\n"
     ]
    }
   ],
   "source": [
    "x_shape = (2, 3, 4, 4)\n",
    "x = np.linspace(-0.3, 0.4, num=np.prod(x_shape)).reshape(x_shape)\n",
    "pool_param = {'pool_width': 2, 'pool_height': 2, 'stride': 2}\n",
    "\n",
    "out, _ = max_pool_forward_naive(x, pool_param)\n",
    "\n",
    "correct_out = np.array([[[[-0.26315789, -0.24842105],\n",
    "                          [-0.20421053, -0.18947368]],\n",
    "                         [[-0.14526316, -0.13052632],\n",
    "                          [-0.08631579, -0.07157895]],\n",
    "                         [[-0.02736842, -0.01263158],\n",
    "                          [ 0.03157895,  0.04631579]]],\n",
    "                        [[[ 0.09052632,  0.10526316],\n",
    "                          [ 0.14947368,  0.16421053]],\n",
    "                         [[ 0.20842105,  0.22315789],\n",
    "                          [ 0.26736842,  0.28210526]],\n",
    "                         [[ 0.32631579,  0.34105263],\n",
    "                          [ 0.38526316,  0.4       ]]]])\n",
    "\n",
    "# Compare your output with ours. Difference should be on the order of e-8.\n",
    "print('Testing max_pool_forward_naive function:')\n",
    "print('difference: ', rel_error(out, correct_out))"
   ]
  },
  {
   "cell_type": "markdown",
   "metadata": {},
   "source": [
    "# Max-Pooling: Naive backward\n",
    "Implement the backward pass for the max-pooling operation in the function `max_pool_backward_naive` in the file `cs231n/layers.py`. You don't need to worry about computational efficiency.\n",
    "\n",
    "Check your implementation with numeric gradient checking by running the following:"
   ]
  },
  {
   "cell_type": "code",
   "execution_count": 152,
   "metadata": {},
   "outputs": [
    {
     "name": "stdout",
     "output_type": "stream",
     "text": [
      "Testing max_pool_backward_naive function:\n",
      "dx error:  3.27562514223145e-12\n"
     ]
    }
   ],
   "source": [
    "np.random.seed(231)\n",
    "x = np.random.randn(3, 2, 8, 8)\n",
    "dout = np.random.randn(3, 2, 4, 4)\n",
    "pool_param = {'pool_height': 2, 'pool_width': 2, 'stride': 2}\n",
    "\n",
    "dx_num = eval_numerical_gradient_array(lambda x: max_pool_forward_naive(x, pool_param)[0], x, dout)\n",
    "\n",
    "out, cache = max_pool_forward_naive(x, pool_param)\n",
    "dx = max_pool_backward_naive(dout, cache)\n",
    "\n",
    "# Your error should be on the order of e-12\n",
    "print('Testing max_pool_backward_naive function:')\n",
    "print('dx error: ', rel_error(dx, dx_num))"
   ]
  },
  {
   "cell_type": "code",
   "execution_count": 8,
   "metadata": {},
   "outputs": [
    {
     "data": {
      "text/plain": [
       "(3, 2, 8, 8)"
      ]
     },
     "execution_count": 8,
     "metadata": {},
     "output_type": "execute_result"
    }
   ],
   "source": [
    "x.shape"
   ]
  },
  {
   "cell_type": "code",
   "execution_count": 9,
   "metadata": {},
   "outputs": [
    {
     "data": {
      "text/plain": [
       "(3, 2, 4, 4)"
      ]
     },
     "execution_count": 9,
     "metadata": {},
     "output_type": "execute_result"
    }
   ],
   "source": [
    "dout.shape"
   ]
  },
  {
   "cell_type": "code",
   "execution_count": 78,
   "metadata": {},
   "outputs": [
    {
     "data": {
      "text/plain": [
       "array([[[ 0.41794341,  1.39710028],\n",
       "        [-1.4255293 , -0.3763567 ]],\n",
       "\n",
       "       [[-0.18982427, -1.14094943],\n",
       "        [-0.25704466, -0.12841368]]])"
      ]
     },
     "execution_count": 78,
     "metadata": {},
     "output_type": "execute_result"
    }
   ],
   "source": [
    "x_section = x[0, :, 0:2, 0:2]\n",
    "x_section"
   ]
  },
  {
   "cell_type": "code",
   "execution_count": 92,
   "metadata": {},
   "outputs": [
    {
     "data": {
      "text/plain": [
       "(2, 2, 2)"
      ]
     },
     "execution_count": 92,
     "metadata": {},
     "output_type": "execute_result"
    }
   ],
   "source": [
    "x_section.shape"
   ]
  },
  {
   "cell_type": "code",
   "execution_count": 142,
   "metadata": {},
   "outputs": [
    {
     "name": "stdout",
     "output_type": "stream",
     "text": [
      "(3, 2, 8, 8)\n"
     ]
    }
   ],
   "source": [
    "print(x.shape)"
   ]
  },
  {
   "cell_type": "code",
   "execution_count": 141,
   "metadata": {},
   "outputs": [
    {
     "name": "stdout",
     "output_type": "stream",
     "text": [
      "(3, 2, 4, 4)\n"
     ]
    }
   ],
   "source": [
    "print(dout.shape)"
   ]
  },
  {
   "cell_type": "code",
   "execution_count": 124,
   "metadata": {},
   "outputs": [
    {
     "data": {
      "text/plain": [
       "array([[ 0.41794341,  1.39710028],\n",
       "       [-1.4255293 , -0.3763567 ]])"
      ]
     },
     "execution_count": 124,
     "metadata": {},
     "output_type": "execute_result"
    }
   ],
   "source": [
    "x_section[0]"
   ]
  },
  {
   "cell_type": "code",
   "execution_count": 145,
   "metadata": {},
   "outputs": [
    {
     "data": {
      "text/plain": [
       "(0, 1)"
      ]
     },
     "execution_count": 145,
     "metadata": {},
     "output_type": "execute_result"
    }
   ],
   "source": [
    "np.unravel_index(x_section[0].argmax(), x_section[0].shape)"
   ]
  },
  {
   "cell_type": "code",
   "execution_count": 136,
   "metadata": {},
   "outputs": [],
   "source": [
    "m_i, m_j = np.unravel_index(x_section[0].argmax(), x_section[0].shape)"
   ]
  },
  {
   "cell_type": "code",
   "execution_count": 139,
   "metadata": {},
   "outputs": [
    {
     "data": {
      "text/plain": [
       "1.3971002787857785"
      ]
     },
     "execution_count": 139,
     "metadata": {},
     "output_type": "execute_result"
    }
   ],
   "source": [
    "x_section[0][m_i, m_j]"
   ]
  },
  {
   "cell_type": "code",
   "execution_count": 137,
   "metadata": {},
   "outputs": [
    {
     "data": {
      "text/plain": [
       "1.3971002787857785"
      ]
     },
     "execution_count": 137,
     "metadata": {},
     "output_type": "execute_result"
    }
   ],
   "source": [
    "x_section[0, m_i, m_j]"
   ]
  },
  {
   "cell_type": "code",
   "execution_count": 123,
   "metadata": {},
   "outputs": [
    {
     "data": {
      "text/plain": [
       "1"
      ]
     },
     "execution_count": 123,
     "metadata": {},
     "output_type": "execute_result"
    }
   ],
   "source": [
    "np.argmax(x_section[0])"
   ]
  },
  {
   "cell_type": "code",
   "execution_count": 108,
   "metadata": {},
   "outputs": [
    {
     "data": {
      "text/plain": [
       "array([[ 0.41794341,  1.39710028, -1.4255293 , -0.3763567 ],\n",
       "       [-0.18982427, -1.14094943, -0.25704466, -0.12841368]])"
      ]
     },
     "execution_count": 108,
     "metadata": {},
     "output_type": "execute_result"
    }
   ],
   "source": [
    "rescaled_x_section = x_section.reshape(x_section.shape[0], -1)\n",
    "rescaled_x_section"
   ]
  },
  {
   "cell_type": "markdown",
   "metadata": {},
   "source": [
    "# Fast layers\n",
    "Making convolution and pooling layers fast can be challenging. To spare you the pain, we've provided fast implementations of the forward and backward passes for convolution and pooling layers in the file `cs231n/fast_layers.py`.\n",
    "\n",
    "The fast convolution implementation depends on a Cython extension; to compile it you need to run the following from the `cs231n` directory:\n",
    "\n",
    "```bash\n",
    "python setup.py build_ext --inplace\n",
    "```\n",
    "\n",
    "The API for the fast versions of the convolution and pooling layers is exactly the same as the naive versions that you implemented above: the forward pass receives data, weights, and parameters and produces outputs and a cache object; the backward pass recieves upstream derivatives and the cache object and produces gradients with respect to the data and weights.\n",
    "\n",
    "**NOTE:** The fast implementation for pooling will only perform optimally if the pooling regions are non-overlapping and tile the input. If these conditions are not met then the fast pooling implementation will not be much faster than the naive implementation.\n",
    "\n",
    "You can compare the performance of the naive and fast versions of these layers by running the following:"
   ]
  },
  {
   "cell_type": "code",
   "execution_count": 153,
   "metadata": {},
   "outputs": [
    {
     "name": "stdout",
     "output_type": "stream",
     "text": [
      "Testing conv_forward_fast:\n",
      "Naive: 0.308920s\n",
      "Fast: 0.015961s\n",
      "Speedup: 19.354206x\n",
      "Difference:  4.926407851494105e-11\n",
      "\n",
      "Testing conv_backward_fast:\n",
      "Naive: 0.629900s\n",
      "Fast: 0.022262s\n",
      "Speedup: 28.295042x\n",
      "dx difference:  1.006330206620509e-11\n",
      "dw difference:  5.188375174206562e-13\n",
      "db difference:  0.0\n"
     ]
    }
   ],
   "source": [
    "# Rel errors should be around e-9 or less\n",
    "from cs231n.fast_layers import conv_forward_fast, conv_backward_fast\n",
    "from time import time\n",
    "np.random.seed(231)\n",
    "x = np.random.randn(100, 3, 31, 31)\n",
    "w = np.random.randn(25, 3, 3, 3)\n",
    "b = np.random.randn(25,)\n",
    "dout = np.random.randn(100, 25, 16, 16)\n",
    "conv_param = {'stride': 2, 'pad': 1}\n",
    "\n",
    "t0 = time()\n",
    "out_naive, cache_naive = conv_forward_naive(x, w, b, conv_param)\n",
    "t1 = time()\n",
    "out_fast, cache_fast = conv_forward_fast(x, w, b, conv_param)\n",
    "t2 = time()\n",
    "\n",
    "print('Testing conv_forward_fast:')\n",
    "print('Naive: %fs' % (t1 - t0))\n",
    "print('Fast: %fs' % (t2 - t1))\n",
    "print('Speedup: %fx' % ((t1 - t0) / (t2 - t1)))\n",
    "print('Difference: ', rel_error(out_naive, out_fast))\n",
    "\n",
    "t0 = time()\n",
    "dx_naive, dw_naive, db_naive = conv_backward_naive(dout, cache_naive)\n",
    "t1 = time()\n",
    "dx_fast, dw_fast, db_fast = conv_backward_fast(dout, cache_fast)\n",
    "t2 = time()\n",
    "\n",
    "print('\\nTesting conv_backward_fast:')\n",
    "print('Naive: %fs' % (t1 - t0))\n",
    "print('Fast: %fs' % (t2 - t1))\n",
    "print('Speedup: %fx' % ((t1 - t0) / (t2 - t1)))\n",
    "print('dx difference: ', rel_error(dx_naive, dx_fast))\n",
    "print('dw difference: ', rel_error(dw_naive, dw_fast))\n",
    "print('db difference: ', rel_error(db_naive, db_fast))"
   ]
  },
  {
   "cell_type": "code",
   "execution_count": 154,
   "metadata": {},
   "outputs": [
    {
     "name": "stdout",
     "output_type": "stream",
     "text": [
      "Testing pool_forward_fast:\n",
      "Naive: 0.161549s\n",
      "fast: 0.002996s\n",
      "speedup: 53.922091x\n",
      "difference:  0.0\n",
      "\n",
      "Testing pool_backward_fast:\n",
      "Naive: 0.364449s\n",
      "fast: 0.013184s\n",
      "speedup: 27.643134x\n",
      "dx difference:  0.0\n"
     ]
    }
   ],
   "source": [
    "# Relative errors should be close to 0.0\n",
    "from cs231n.fast_layers import max_pool_forward_fast, max_pool_backward_fast\n",
    "np.random.seed(231)\n",
    "x = np.random.randn(100, 3, 32, 32)\n",
    "dout = np.random.randn(100, 3, 16, 16)\n",
    "pool_param = {'pool_height': 2, 'pool_width': 2, 'stride': 2}\n",
    "\n",
    "t0 = time()\n",
    "out_naive, cache_naive = max_pool_forward_naive(x, pool_param)\n",
    "t1 = time()\n",
    "out_fast, cache_fast = max_pool_forward_fast(x, pool_param)\n",
    "t2 = time()\n",
    "\n",
    "print('Testing pool_forward_fast:')\n",
    "print('Naive: %fs' % (t1 - t0))\n",
    "print('fast: %fs' % (t2 - t1))\n",
    "print('speedup: %fx' % ((t1 - t0) / (t2 - t1)))\n",
    "print('difference: ', rel_error(out_naive, out_fast))\n",
    "\n",
    "t0 = time()\n",
    "dx_naive = max_pool_backward_naive(dout, cache_naive)\n",
    "t1 = time()\n",
    "dx_fast = max_pool_backward_fast(dout, cache_fast)\n",
    "t2 = time()\n",
    "\n",
    "print('\\nTesting pool_backward_fast:')\n",
    "print('Naive: %fs' % (t1 - t0))\n",
    "print('fast: %fs' % (t2 - t1))\n",
    "print('speedup: %fx' % ((t1 - t0) / (t2 - t1)))\n",
    "print('dx difference: ', rel_error(dx_naive, dx_fast))"
   ]
  },
  {
   "cell_type": "markdown",
   "metadata": {},
   "source": [
    "# Convolutional \"sandwich\" layers\n",
    "Previously we introduced the concept of \"sandwich\" layers that combine multiple operations into commonly used patterns. In the file `cs231n/layer_utils.py` you will find sandwich layers that implement a few commonly used patterns for convolutional networks."
   ]
  },
  {
   "cell_type": "code",
   "execution_count": 155,
   "metadata": {},
   "outputs": [
    {
     "name": "stdout",
     "output_type": "stream",
     "text": [
      "Testing conv_relu_pool\n",
      "dx error:  5.828178746516271e-09\n",
      "dw error:  8.443628091870788e-09\n",
      "db error:  3.57960501324485e-10\n"
     ]
    }
   ],
   "source": [
    "from cs231n.layer_utils import conv_relu_pool_forward, conv_relu_pool_backward\n",
    "np.random.seed(231)\n",
    "x = np.random.randn(2, 3, 16, 16)\n",
    "w = np.random.randn(3, 3, 3, 3)\n",
    "b = np.random.randn(3,)\n",
    "dout = np.random.randn(2, 3, 8, 8)\n",
    "conv_param = {'stride': 1, 'pad': 1}\n",
    "pool_param = {'pool_height': 2, 'pool_width': 2, 'stride': 2}\n",
    "\n",
    "out, cache = conv_relu_pool_forward(x, w, b, conv_param, pool_param)\n",
    "dx, dw, db = conv_relu_pool_backward(dout, cache)\n",
    "\n",
    "dx_num = eval_numerical_gradient_array(lambda x: conv_relu_pool_forward(x, w, b, conv_param, pool_param)[0], x, dout)\n",
    "dw_num = eval_numerical_gradient_array(lambda w: conv_relu_pool_forward(x, w, b, conv_param, pool_param)[0], w, dout)\n",
    "db_num = eval_numerical_gradient_array(lambda b: conv_relu_pool_forward(x, w, b, conv_param, pool_param)[0], b, dout)\n",
    "\n",
    "# Relative errors should be around e-8 or less\n",
    "print('Testing conv_relu_pool')\n",
    "print('dx error: ', rel_error(dx_num, dx))\n",
    "print('dw error: ', rel_error(dw_num, dw))\n",
    "print('db error: ', rel_error(db_num, db))"
   ]
  },
  {
   "cell_type": "code",
   "execution_count": 156,
   "metadata": {},
   "outputs": [
    {
     "name": "stdout",
     "output_type": "stream",
     "text": [
      "Testing conv_relu:\n",
      "dx error:  3.5600610115232832e-09\n",
      "dw error:  2.2497700915729298e-10\n",
      "db error:  1.3087619975802167e-10\n"
     ]
    }
   ],
   "source": [
    "from cs231n.layer_utils import conv_relu_forward, conv_relu_backward\n",
    "np.random.seed(231)\n",
    "x = np.random.randn(2, 3, 8, 8)\n",
    "w = np.random.randn(3, 3, 3, 3)\n",
    "b = np.random.randn(3,)\n",
    "dout = np.random.randn(2, 3, 8, 8)\n",
    "conv_param = {'stride': 1, 'pad': 1}\n",
    "\n",
    "out, cache = conv_relu_forward(x, w, b, conv_param)\n",
    "dx, dw, db = conv_relu_backward(dout, cache)\n",
    "\n",
    "dx_num = eval_numerical_gradient_array(lambda x: conv_relu_forward(x, w, b, conv_param)[0], x, dout)\n",
    "dw_num = eval_numerical_gradient_array(lambda w: conv_relu_forward(x, w, b, conv_param)[0], w, dout)\n",
    "db_num = eval_numerical_gradient_array(lambda b: conv_relu_forward(x, w, b, conv_param)[0], b, dout)\n",
    "\n",
    "# Relative errors should be around e-8 or less\n",
    "print('Testing conv_relu:')\n",
    "print('dx error: ', rel_error(dx_num, dx))\n",
    "print('dw error: ', rel_error(dw_num, dw))\n",
    "print('db error: ', rel_error(db_num, db))"
   ]
  },
  {
   "cell_type": "markdown",
   "metadata": {},
   "source": [
    "# Three-layer ConvNet\n",
    "Now that you have implemented all the necessary layers, we can put them together into a simple convolutional network.\n",
    "\n",
    "Open the file `cs231n/classifiers/cnn.py` and complete the implementation of the `ThreeLayerConvNet` class. Remember you can use the fast/sandwich layers (already imported for you) in your implementation. Run the following cells to help you debug:"
   ]
  },
  {
   "cell_type": "markdown",
   "metadata": {},
   "source": [
    "## Sanity check loss\n",
    "After you build a new network, one of the first things you should do is sanity check the loss. When we use the softmax loss, we expect the loss for random weights (and no regularization) to be about `log(C)` for `C` classes. When we add regularization this should go up."
   ]
  },
  {
   "cell_type": "code",
   "execution_count": 158,
   "metadata": {},
   "outputs": [
    {
     "name": "stdout",
     "output_type": "stream",
     "text": [
      "Initial loss (no regularization):  0\n",
      "Initial loss (with regularization):  0\n"
     ]
    }
   ],
   "source": [
    "model = ThreeLayerConvNet()\n",
    "\n",
    "N = 50\n",
    "X = np.random.randn(N, 3, 32, 32)\n",
    "y = np.random.randint(10, size=N)\n",
    "\n",
    "loss, grads = model.loss(X, y)\n",
    "print('Initial loss (no regularization): ', loss)\n",
    "\n",
    "model.reg = 0.5\n",
    "loss, grads = model.loss(X, y)\n",
    "print('Initial loss (with regularization): ', loss)"
   ]
  },
  {
   "cell_type": "code",
   "execution_count": 159,
   "metadata": {},
   "outputs": [
    {
     "data": {
      "text/plain": [
       "{'W1': array([[[[ 7.38728035e-04, -2.97182036e-04,  7.23134319e-04, ...,\n",
       "            9.68983586e-05, -2.56122003e-05,  5.77611616e-04],\n",
       "          [ 4.73006134e-04, -1.82770344e-03, -4.71827341e-04, ...,\n",
       "           -2.55302642e-04, -1.50952337e-03, -2.44654366e-03],\n",
       "          [-3.11855954e-04,  2.05104123e-04, -8.07013246e-04, ...,\n",
       "           -1.13614777e-03,  5.05422882e-04,  1.57020648e-03],\n",
       "          ...,\n",
       "          [ 5.09475707e-04,  3.47894347e-05, -3.72100243e-04, ...,\n",
       "           -8.29708413e-04,  8.18795525e-04, -2.06770419e-04],\n",
       "          [-6.85670122e-04,  8.71816534e-04,  1.01468642e-03, ...,\n",
       "           -8.19328998e-04,  9.27246292e-05,  5.30790247e-04],\n",
       "          [ 2.75653758e-04, -4.41993005e-04,  3.83184873e-04, ...,\n",
       "            2.91345350e-04,  2.40762543e-04,  2.07426347e-04]],\n",
       " \n",
       "         [[-2.40105018e-03, -1.31766114e-03, -6.10695977e-04, ...,\n",
       "           -1.23503071e-03, -1.10353751e-03, -9.64636856e-04],\n",
       "          [ 1.65254215e-03, -1.27202726e-03, -8.58369458e-04, ...,\n",
       "           -2.30158432e-04,  4.11455869e-04, -8.59448191e-05],\n",
       "          [ 1.17829139e-03,  4.40333533e-04,  5.08431458e-06, ...,\n",
       "            4.71545180e-04, -2.09381527e-04,  1.69260209e-04],\n",
       "          ...,\n",
       "          [-2.05287739e-04, -1.27023563e-03, -2.35740631e-03, ...,\n",
       "            1.03713199e-03,  2.39760091e-04,  1.49587670e-03],\n",
       "          [-2.74934311e-04, -4.37175448e-04,  6.05704729e-04, ...,\n",
       "           -2.27969649e-04,  1.12501800e-03,  5.90690819e-04],\n",
       "          [-5.13703912e-04,  1.20306606e-04, -1.14589103e-03, ...,\n",
       "            3.45378736e-04, -6.17575308e-04, -1.22510898e-03]],\n",
       " \n",
       "         [[ 7.83604279e-04,  3.48573754e-04,  2.30667531e-03, ...,\n",
       "            5.31836529e-04,  1.19534973e-03, -1.08590815e-03],\n",
       "          [-5.51284465e-04,  3.90697067e-04,  1.92674590e-04, ...,\n",
       "            1.71194063e-03,  6.51457114e-04,  2.16069748e-05],\n",
       "          [-1.23304431e-03, -4.21718178e-05,  3.42543499e-04, ...,\n",
       "           -5.91573655e-04,  6.41958846e-04, -1.60099869e-03],\n",
       "          ...,\n",
       "          [-6.08517148e-04, -1.54455937e-03,  4.68470913e-04, ...,\n",
       "            1.45442632e-03,  1.14801107e-03,  1.63144292e-03],\n",
       "          [ 2.79763597e-04,  1.62568525e-03, -1.53520334e-04, ...,\n",
       "           -1.23588578e-03,  8.21713620e-05, -3.64653766e-04],\n",
       "          [ 7.86202087e-04, -1.39040334e-04, -3.38391488e-04, ...,\n",
       "            2.52758127e-05, -3.10410542e-04, -2.20105774e-03]]],\n",
       " \n",
       " \n",
       "        [[[-6.04232424e-04, -1.30501299e-04,  2.88411556e-03, ...,\n",
       "            2.24328003e-04, -6.75306306e-04,  4.77229274e-04],\n",
       "          [-1.06101786e-03, -7.52501888e-04, -9.48173518e-04, ...,\n",
       "            4.56767710e-04, -3.75451840e-04,  1.09349472e-04],\n",
       "          [ 1.86606980e-04, -2.53578823e-04,  6.00680185e-04, ...,\n",
       "            4.64875106e-04,  2.16144472e-04, -9.62509017e-04],\n",
       "          ...,\n",
       "          [ 7.58843205e-04, -1.26251462e-03, -2.53306440e-04, ...,\n",
       "            1.59336580e-03, -8.90331066e-05,  1.11529871e-03],\n",
       "          [-1.17335131e-03,  1.20272389e-05,  5.79985499e-04, ...,\n",
       "           -1.69343373e-04, -5.01210416e-05,  1.36269350e-03],\n",
       "          [-1.58898431e-04,  1.49935205e-03,  7.13476446e-04, ...,\n",
       "           -3.84469517e-04, -1.18950254e-03,  8.09823570e-04]],\n",
       " \n",
       "         [[ 1.80001126e-03, -2.30055113e-04, -1.10114830e-04, ...,\n",
       "            8.39411456e-04,  1.08499231e-03, -6.03460532e-04],\n",
       "          [-2.81864632e-04, -9.97534487e-04, -3.65054475e-05, ...,\n",
       "            1.67673873e-03,  5.95949998e-04,  1.35768752e-03],\n",
       "          [ 6.99491124e-04, -7.33633875e-04, -2.11443705e-03, ...,\n",
       "           -1.04950648e-03, -1.16052071e-03, -1.07224740e-03],\n",
       "          ...,\n",
       "          [ 7.82838266e-04,  7.27511069e-04,  1.72620221e-05, ...,\n",
       "           -1.19305216e-03, -7.17570423e-04, -3.59744212e-04],\n",
       "          [-2.40943060e-04, -1.08419952e-03,  4.25101578e-04, ...,\n",
       "           -1.19270314e-03, -1.63018832e-03,  4.58055030e-04],\n",
       "          [ 3.77676275e-04,  1.66005455e-03, -2.03213436e-04, ...,\n",
       "            1.15354045e-03, -2.55240913e-04,  1.02884835e-03]],\n",
       " \n",
       "         [[-2.26092339e-03,  1.11503483e-04,  2.60061293e-04, ...,\n",
       "           -9.88587853e-04,  7.43726152e-04,  4.43647587e-04],\n",
       "          [ 2.45291652e-04,  6.57536730e-04,  1.51871028e-03, ...,\n",
       "            3.82535858e-04,  2.47184769e-04, -2.00197217e-03],\n",
       "          [ 6.61917729e-04,  7.22583616e-04,  2.38379743e-03, ...,\n",
       "            1.44458711e-04, -5.62484609e-04,  5.80919732e-04],\n",
       "          ...,\n",
       "          [ 1.50458829e-03, -4.70127969e-04,  1.00164232e-03, ...,\n",
       "            9.53158189e-04, -1.58659543e-03, -1.03829813e-03],\n",
       "          [ 7.67887745e-04, -1.03884621e-03,  1.27454218e-03, ...,\n",
       "           -2.68731557e-04,  1.46573363e-03, -2.15317268e-04],\n",
       "          [ 6.61293219e-04,  2.07231496e-05, -1.13639934e-03, ...,\n",
       "            1.54507440e-03, -8.55245453e-04, -5.28580567e-04]]],\n",
       " \n",
       " \n",
       "        [[[-9.88678075e-04, -1.50314695e-03, -3.01037799e-04, ...,\n",
       "           -8.22500442e-04,  1.79424125e-03, -3.19098646e-04],\n",
       "          [-9.85609600e-04,  4.00677265e-04, -3.47529916e-04, ...,\n",
       "            2.20457165e-04, -2.83859379e-04, -5.45421033e-04],\n",
       "          [ 1.55365781e-03,  1.01913931e-03,  4.63420205e-04, ...,\n",
       "            2.74651637e-03, -3.68693611e-04,  1.22877618e-03],\n",
       "          ...,\n",
       "          [-3.72999784e-04, -2.26382559e-04,  1.05283980e-03, ...,\n",
       "            4.59282252e-04, -1.00780011e-03, -2.21837661e-04],\n",
       "          [ 2.90663185e-04,  1.49766484e-03, -3.87466775e-04, ...,\n",
       "            7.54971261e-05, -1.84887426e-03, -1.53660239e-03],\n",
       "          [-3.09177616e-04,  4.03600425e-04, -7.95736651e-06, ...,\n",
       "            9.28871741e-04, -8.51034478e-04,  1.19666511e-03]],\n",
       " \n",
       "         [[ 9.29610047e-04,  1.56614149e-03,  6.30977622e-04, ...,\n",
       "            5.00086520e-04,  1.76713671e-04,  1.50002117e-04],\n",
       "          [ 3.18191363e-04, -8.70487012e-04, -1.47784012e-04, ...,\n",
       "           -2.39503541e-04,  8.86684575e-04, -8.06071155e-04],\n",
       "          [-1.16200815e-03, -2.25937320e-03,  5.79640036e-04, ...,\n",
       "           -7.13158166e-04,  2.54007347e-04, -2.72696197e-04],\n",
       "          ...,\n",
       "          [ 1.08563283e-04,  3.59178870e-04,  4.72596090e-04, ...,\n",
       "           -1.10726035e-03, -9.37205390e-04,  6.83052465e-04],\n",
       "          [ 1.49973191e-03,  1.81449647e-03, -1.80543610e-03, ...,\n",
       "            1.31521490e-04, -1.36592153e-05,  2.65529845e-04],\n",
       "          [ 1.61482650e-03,  1.39396766e-03,  1.37880456e-03, ...,\n",
       "           -3.46899644e-04, -1.16702972e-03, -1.64431811e-03]],\n",
       " \n",
       "         [[-1.71307649e-03,  2.31015685e-04, -2.22946182e-04, ...,\n",
       "            5.73200115e-04, -8.89957242e-04, -2.01976611e-04],\n",
       "          [-2.98168452e-04,  1.67237758e-03, -4.61491509e-05, ...,\n",
       "            5.40451554e-04, -7.18347845e-04,  4.69695340e-04],\n",
       "          [-1.21503917e-03, -2.88396375e-04, -6.82664511e-04, ...,\n",
       "            1.32941268e-03,  9.85088525e-04,  2.85111251e-03],\n",
       "          ...,\n",
       "          [-1.56930799e-03,  1.90109957e-03,  9.09075956e-04, ...,\n",
       "            1.35458342e-03, -4.85503901e-04,  7.35949943e-05],\n",
       "          [ 9.34828073e-04,  1.78751812e-04, -8.34239472e-04, ...,\n",
       "           -2.76099774e-04,  4.97254659e-04,  5.47917269e-04],\n",
       "          [-8.58712301e-04, -1.57815428e-03, -8.15734500e-04, ...,\n",
       "           -2.05671764e-03, -1.10878539e-03, -1.48308661e-03]]],\n",
       " \n",
       " \n",
       "        ...,\n",
       " \n",
       " \n",
       "        [[[ 9.38077283e-04, -5.83353802e-04, -1.85617464e-04, ...,\n",
       "            1.71819294e-03, -5.51654666e-04,  3.05542577e-04],\n",
       "          [-2.36264794e-04, -1.13286791e-04, -1.89306831e-03, ...,\n",
       "            5.06598211e-04, -2.97359424e-04,  1.66552118e-03],\n",
       "          [-2.20025494e-03, -1.02402980e-03,  1.45505590e-03, ...,\n",
       "            5.95202320e-04, -1.15694442e-04,  2.05695769e-03],\n",
       "          ...,\n",
       "          [ 1.42144540e-03,  4.03115730e-04, -4.22651967e-04, ...,\n",
       "           -1.17390603e-03, -9.69144967e-05, -2.12334693e-04],\n",
       "          [-7.74323475e-04, -2.83406116e-04,  4.43604687e-04, ...,\n",
       "           -2.98892382e-06,  5.55807317e-04,  1.14261708e-03],\n",
       "          [ 8.08722281e-04,  1.17828592e-03, -4.19156742e-04, ...,\n",
       "           -4.07386360e-05, -4.19694785e-04, -1.92920398e-03]],\n",
       " \n",
       "         [[ 8.73064448e-04, -7.80870265e-04,  7.21101242e-04, ...,\n",
       "            4.65407560e-04, -7.13913643e-04, -5.01769304e-04],\n",
       "          [ 1.35471625e-03,  2.85034697e-03, -7.65935518e-04, ...,\n",
       "           -2.34782128e-04, -9.68403358e-04, -4.08923923e-04],\n",
       "          [ 2.03243806e-04, -1.68967259e-03, -3.64003994e-04, ...,\n",
       "           -1.10943196e-03,  4.13353206e-04, -3.05003108e-04],\n",
       "          ...,\n",
       "          [ 8.56585568e-04, -1.45421131e-04, -4.00765275e-04, ...,\n",
       "           -7.72973057e-04, -2.04852840e-04,  7.46036298e-04],\n",
       "          [ 1.05106144e-03, -8.54643818e-04, -6.03998313e-04, ...,\n",
       "            3.13126046e-04,  1.71227253e-03, -9.92692076e-04],\n",
       "          [ 7.11906294e-04, -1.37751817e-03, -1.78643747e-03, ...,\n",
       "           -6.44103682e-04, -1.06947904e-03, -5.89774980e-04]],\n",
       " \n",
       "         [[ 2.51730613e-04, -9.66707419e-04,  1.20438810e-03, ...,\n",
       "           -8.45032104e-04, -2.38559514e-05, -2.47780641e-04],\n",
       "          [-7.40510761e-04,  9.16552381e-04, -6.14655844e-04, ...,\n",
       "            6.30598923e-04,  1.15037942e-03,  4.50109335e-04],\n",
       "          [-2.56717583e-04,  5.91311662e-04, -4.39668511e-05, ...,\n",
       "           -1.21966982e-03,  1.33984466e-03,  1.30715733e-03],\n",
       "          ...,\n",
       "          [ 3.12225049e-04, -1.22825301e-03, -5.32116937e-05, ...,\n",
       "            2.39030385e-04,  1.05200184e-03, -2.33947198e-04],\n",
       "          [ 2.33528321e-03, -1.68308674e-03,  2.96376471e-04, ...,\n",
       "           -2.66491843e-04, -2.01695133e-04,  1.59458432e-04],\n",
       "          [ 3.48002592e-04,  8.45153059e-04, -1.34161394e-03, ...,\n",
       "            2.31327303e-03, -4.80121496e-04, -1.15891686e-03]]],\n",
       " \n",
       " \n",
       "        [[[ 1.56157494e-05,  5.76083548e-05,  3.65062115e-05, ...,\n",
       "            5.22375631e-04,  2.43060966e-03,  1.54686059e-05],\n",
       "          [ 1.64358388e-03, -6.67312182e-04, -2.39025895e-03, ...,\n",
       "           -2.26745196e-03,  1.70688680e-03, -1.11903728e-05],\n",
       "          [-9.41717299e-04,  9.45732929e-04, -1.01220631e-03, ...,\n",
       "           -6.25048880e-04,  4.74228902e-04,  8.73866724e-04],\n",
       "          ...,\n",
       "          [ 2.44132010e-04,  8.29999844e-05,  8.37272964e-04, ...,\n",
       "           -1.67468062e-03,  1.77813752e-04,  1.04413449e-03],\n",
       "          [-1.21069652e-05,  7.41407566e-04,  2.99069536e-04, ...,\n",
       "            1.86476645e-05,  5.45354851e-04,  1.09559362e-04],\n",
       "          [ 1.80153572e-03, -7.78172922e-04,  7.80205824e-04, ...,\n",
       "            1.22453680e-03, -2.75110739e-04, -5.91049204e-04]],\n",
       " \n",
       "         [[-3.04969406e-04,  5.49834978e-04, -3.02545540e-03, ...,\n",
       "            5.61011024e-04, -8.72421544e-04, -3.89599445e-04],\n",
       "          [ 3.96553223e-04,  4.27603460e-04,  8.46110110e-04, ...,\n",
       "           -5.06710494e-04,  6.73980801e-04, -7.22613535e-04],\n",
       "          [ 2.60508084e-03,  5.17195731e-04, -1.15633931e-03, ...,\n",
       "           -1.48175471e-03,  7.30205560e-04, -2.62474292e-03],\n",
       "          ...,\n",
       "          [ 1.95403351e-03, -1.13753573e-04, -4.02772712e-04, ...,\n",
       "           -1.22801529e-03,  1.17868849e-03,  6.05234294e-04],\n",
       "          [-1.69434119e-03, -2.23683123e-03,  6.05023000e-04, ...,\n",
       "            2.26761986e-04, -7.29683088e-04,  6.09247189e-04],\n",
       "          [ 5.91705961e-04,  4.51520697e-04, -7.05961429e-04, ...,\n",
       "           -9.70414141e-04, -1.95541396e-03, -5.25321637e-04]],\n",
       " \n",
       "         [[-1.26969512e-03, -1.10221576e-04,  3.33279022e-04, ...,\n",
       "           -8.40264314e-04,  8.41474219e-04, -2.74400169e-04],\n",
       "          [ 1.46941305e-03,  4.52680310e-04, -1.04681158e-03, ...,\n",
       "            1.39081298e-04, -8.14818661e-04, -5.48837706e-04],\n",
       "          [ 1.38315780e-03, -7.28535117e-04,  1.14626554e-03, ...,\n",
       "           -2.81036249e-04, -1.75817776e-03,  9.93110472e-04],\n",
       "          ...,\n",
       "          [-1.47523038e-04,  1.17688789e-03,  1.91741419e-04, ...,\n",
       "            7.90266960e-04, -1.29163999e-03, -1.39413506e-03],\n",
       "          [ 1.01103052e-03,  5.63308247e-04,  7.19067408e-04, ...,\n",
       "           -1.07822625e-03, -6.54754840e-05, -1.23668532e-03],\n",
       "          [-7.90160964e-04,  5.31019759e-04, -7.14914000e-04, ...,\n",
       "            1.59583509e-03, -7.25697144e-04,  5.17492066e-04]]],\n",
       " \n",
       " \n",
       "        [[[ 3.40361847e-04, -7.98803449e-05,  2.96369748e-04, ...,\n",
       "           -3.11993703e-04,  9.51996248e-04, -2.57987067e-05],\n",
       "          [ 1.89643048e-04, -1.01379154e-03,  1.13063771e-03, ...,\n",
       "            2.50570418e-04,  3.87022999e-04, -2.40727939e-04],\n",
       "          [-3.33640288e-04, -2.06633750e-03,  8.09072008e-05, ...,\n",
       "           -1.86722924e-03,  9.95262453e-05,  3.49801558e-05],\n",
       "          ...,\n",
       "          [-1.76172573e-04,  2.84557376e-04,  1.10740436e-03, ...,\n",
       "            6.59639190e-05, -1.70922780e-03,  2.55899969e-04],\n",
       "          [ 8.58074927e-04, -1.51682040e-03,  3.48877045e-04, ...,\n",
       "           -4.91064624e-04,  2.86793278e-04, -5.07509649e-05],\n",
       "          [ 4.41187498e-04,  1.96468434e-03, -9.68225999e-04, ...,\n",
       "           -6.71024260e-04,  7.23299090e-05,  8.12650032e-05]],\n",
       " \n",
       "         [[ 1.93600380e-03,  3.44987551e-04,  1.58185395e-03, ...,\n",
       "           -3.27588466e-04, -2.07075809e-05, -2.37152824e-04],\n",
       "          [ 1.12274347e-03, -7.55404006e-04,  2.65051000e-04, ...,\n",
       "            2.54831393e-04,  2.05017408e-04,  6.70747715e-04],\n",
       "          [-8.34734994e-04,  1.45400828e-03, -6.83951715e-04, ...,\n",
       "           -9.94375208e-04, -6.42393308e-04, -2.12326540e-05],\n",
       "          ...,\n",
       "          [ 1.17459788e-03,  7.77099747e-04,  1.88414275e-03, ...,\n",
       "            7.34419271e-04, -9.23214771e-04,  1.27413089e-03],\n",
       "          [ 1.84709753e-03, -2.17543376e-04,  9.58980236e-04, ...,\n",
       "            1.14487088e-03, -2.18430345e-04, -4.09224478e-04],\n",
       "          [-3.74696916e-04,  1.64032413e-03, -7.54564418e-04, ...,\n",
       "            8.43928254e-04,  8.62250919e-04, -7.54783046e-04]],\n",
       " \n",
       "         [[ 6.69248227e-04, -8.59569584e-04,  3.81196951e-05, ...,\n",
       "           -1.51826045e-03, -1.79057056e-03, -6.91258523e-04],\n",
       "          [ 1.19208475e-03,  5.72209829e-04, -1.32348912e-03, ...,\n",
       "           -1.18087488e-03, -1.94693881e-03,  1.59793172e-03],\n",
       "          [ 1.62051630e-03, -7.79850699e-04, -4.13057220e-04, ...,\n",
       "            1.03066256e-03,  2.94396887e-04,  5.63679787e-04],\n",
       "          ...,\n",
       "          [-1.00190553e-03, -4.35898663e-04, -1.06448395e-04, ...,\n",
       "            2.24890857e-04, -6.76891417e-04,  1.97410645e-05],\n",
       "          [ 2.00975267e-03, -2.96502258e-04, -1.37048164e-05, ...,\n",
       "            2.03766700e-04,  5.10705460e-04,  1.36189221e-03],\n",
       "          [ 1.52165152e-03,  1.41347502e-03, -8.71902012e-05, ...,\n",
       "           -1.82225922e-04, -3.11130975e-06, -1.75315852e-03]]]],\n",
       "       dtype=float32), 'b1': array([[0.],\n",
       "        [0.],\n",
       "        [0.],\n",
       "        [0.],\n",
       "        [0.],\n",
       "        [0.],\n",
       "        [0.],\n",
       "        [0.],\n",
       "        [0.],\n",
       "        [0.],\n",
       "        [0.],\n",
       "        [0.],\n",
       "        [0.],\n",
       "        [0.],\n",
       "        [0.],\n",
       "        [0.],\n",
       "        [0.],\n",
       "        [0.],\n",
       "        [0.],\n",
       "        [0.],\n",
       "        [0.],\n",
       "        [0.],\n",
       "        [0.],\n",
       "        [0.],\n",
       "        [0.],\n",
       "        [0.],\n",
       "        [0.],\n",
       "        [0.],\n",
       "        [0.],\n",
       "        [0.],\n",
       "        [0.],\n",
       "        [0.]], dtype=float32), 'W2': array([[ 1.0734790e-03,  1.0993107e-03, -1.4197245e-03, ...,\n",
       "          2.5381689e-04,  1.7328498e-04,  2.4945763e-04],\n",
       "        [ 5.9944589e-04, -1.1784523e-03,  5.1989389e-04, ...,\n",
       "          5.5293145e-04,  6.0058088e-04, -6.9150754e-04],\n",
       "        [ 8.5017446e-04, -3.4492367e-04,  9.7547454e-04, ...,\n",
       "         -1.2261055e-04,  5.3734839e-04, -6.6134101e-04],\n",
       "        ...,\n",
       "        [ 1.0764702e-03, -1.9499754e-04,  1.8970056e-03, ...,\n",
       "          5.4682198e-04,  1.5308360e-03,  1.5690320e-03],\n",
       "        [-3.1362186e-04,  2.4454753e-04,  5.5441714e-04, ...,\n",
       "         -6.0370052e-04,  4.7580161e-04,  8.7472628e-04],\n",
       "        [-5.5955333e-04,  5.0418330e-05, -2.7588860e-04, ...,\n",
       "          4.1789602e-04,  1.7570015e-03, -1.8950768e-03]], dtype=float32), 'b2': array([0., 0., 0., 0., 0., 0., 0., 0., 0., 0., 0., 0., 0., 0., 0., 0., 0.,\n",
       "        0., 0., 0., 0., 0., 0., 0., 0., 0., 0., 0., 0., 0., 0., 0., 0., 0.,\n",
       "        0., 0., 0., 0., 0., 0., 0., 0., 0., 0., 0., 0., 0., 0., 0., 0., 0.,\n",
       "        0., 0., 0., 0., 0., 0., 0., 0., 0., 0., 0., 0., 0., 0., 0., 0., 0.,\n",
       "        0., 0., 0., 0., 0., 0., 0., 0., 0., 0., 0., 0., 0., 0., 0., 0., 0.,\n",
       "        0., 0., 0., 0., 0., 0., 0., 0., 0., 0., 0., 0., 0., 0., 0.],\n",
       "       dtype=float32), 'W3': array([[-6.87334104e-04, -8.91346019e-04, -1.28010684e-03,\n",
       "         -5.70728153e-04,  2.67275347e-04, -1.84455898e-03,\n",
       "         -6.53458934e-04, -5.32665872e-04, -1.20556017e-03,\n",
       "          1.23554812e-04],\n",
       "        [ 8.76274018e-04, -2.85034440e-03, -1.15309004e-03,\n",
       "         -2.02467199e-04, -1.09083217e-03, -1.58953958e-03,\n",
       "         -1.57038212e-05,  1.38625910e-03,  6.54353062e-04,\n",
       "          1.36886071e-03],\n",
       "        [-1.58113849e-04, -1.90239676e-04,  1.59229734e-03,\n",
       "          6.63170300e-04,  1.00785401e-03, -9.36624594e-04,\n",
       "          6.71048881e-04,  2.78119784e-04,  5.26316871e-04,\n",
       "         -6.08388451e-04],\n",
       "        [-1.02591530e-05,  2.49694381e-03,  7.00537756e-04,\n",
       "          1.00080471e-03,  3.90203320e-04,  5.96845697e-04,\n",
       "          6.38915692e-04, -9.28921276e-04,  7.36360555e-04,\n",
       "         -8.78383929e-04],\n",
       "        [ 4.40964039e-04,  2.02125567e-03, -8.81608401e-04,\n",
       "         -2.15259031e-03, -1.79411913e-03,  7.58297159e-04,\n",
       "          3.82519996e-04,  2.74667633e-04, -1.49257903e-04,\n",
       "          8.42095236e-04],\n",
       "        [-2.79142638e-04, -3.65218807e-06,  3.68700741e-04,\n",
       "          6.99105440e-04, -6.36521610e-04, -3.65707325e-04,\n",
       "         -1.49991811e-05, -1.85059835e-04, -1.24768435e-03,\n",
       "         -5.96173515e-04],\n",
       "        [-3.42782296e-04, -1.37609232e-03, -3.67399247e-04,\n",
       "          3.71979666e-04,  4.38985444e-04,  9.48447967e-04,\n",
       "         -8.89046409e-04, -6.92854286e-04, -1.22687942e-03,\n",
       "          8.95802979e-04],\n",
       "        [ 1.26671628e-03,  5.42914553e-04,  1.17365457e-03,\n",
       "          5.11575257e-04,  1.17038924e-03,  2.30906226e-05,\n",
       "          3.60821214e-05, -1.09422207e-03, -2.15656334e-03,\n",
       "          8.77823331e-04],\n",
       "        [-2.62378319e-03,  1.28321920e-03,  3.87847947e-04,\n",
       "         -1.16260431e-03, -1.76627247e-03, -1.62970379e-03,\n",
       "         -5.84708410e-04, -3.56167991e-04, -1.29309366e-04,\n",
       "          3.75251024e-04],\n",
       "        [ 1.54702098e-03,  5.37508458e-04,  1.16740179e-03,\n",
       "          1.82464626e-03, -1.19722987e-04, -4.24053636e-04,\n",
       "         -1.02200394e-03,  1.60984800e-03, -3.99292534e-04,\n",
       "         -8.71801865e-04],\n",
       "        [ 2.47460208e-03,  5.86902082e-04,  1.12958869e-03,\n",
       "          8.55917897e-05, -3.20086372e-04,  8.96542158e-04,\n",
       "         -9.70888592e-04, -7.16598763e-04, -6.20348055e-06,\n",
       "          9.90881934e-04],\n",
       "        [ 1.91677143e-04,  5.60833607e-04,  1.11056434e-05,\n",
       "         -3.01781140e-04,  3.23147629e-04, -1.35471681e-04,\n",
       "          1.20185444e-03, -1.23807532e-03, -3.02793516e-04,\n",
       "         -1.85167679e-04],\n",
       "        [ 8.06258235e-04,  5.67533076e-04,  1.07992440e-03,\n",
       "         -3.97678989e-04, -1.71808453e-04,  4.14944370e-04,\n",
       "         -1.05655589e-03,  1.65876688e-03, -3.93494738e-05,\n",
       "         -2.08110176e-03],\n",
       "        [-4.41607350e-04, -1.46901832e-04,  1.40932359e-04,\n",
       "          1.85185621e-04,  1.92561920e-03, -1.11428439e-04,\n",
       "         -3.75027594e-05,  1.41462788e-03,  5.83558925e-04,\n",
       "          1.63020997e-03],\n",
       "        [ 9.20027145e-04, -2.25611526e-04,  3.12314136e-04,\n",
       "          5.24581701e-04,  4.23265388e-04, -8.94785335e-04,\n",
       "         -7.36734946e-05, -4.15730843e-04, -8.83609639e-04,\n",
       "         -4.57106566e-04],\n",
       "        [ 2.96704180e-04, -1.40625215e-03, -5.90855430e-04,\n",
       "         -4.47270548e-04,  8.30005956e-05, -1.75635691e-03,\n",
       "          5.87086310e-04, -1.43575866e-03, -1.45185122e-03,\n",
       "          5.98635350e-04],\n",
       "        [ 1.65237405e-03, -8.89846357e-04,  2.56427214e-04,\n",
       "          7.32851389e-04,  1.70410983e-03,  1.07247091e-03,\n",
       "         -9.53354232e-04,  2.88490613e-04, -1.80403003e-03,\n",
       "          3.71762144e-04],\n",
       "        [-6.99310214e-04, -2.20906935e-04, -7.40184041e-04,\n",
       "         -3.90074674e-05, -3.96308635e-04,  2.20914590e-04,\n",
       "         -1.24861090e-03, -1.14964694e-03,  2.66668503e-04,\n",
       "          1.36050279e-03],\n",
       "        [-7.26315848e-05, -7.25029560e-04, -3.39239283e-04,\n",
       "         -1.24304590e-03,  2.28162990e-05, -6.02668792e-04,\n",
       "         -1.16272992e-03,  7.46144389e-04, -1.19685149e-03,\n",
       "         -2.74711667e-04],\n",
       "        [-1.28574041e-03, -8.23974784e-04,  9.40281257e-04,\n",
       "         -7.65443314e-04, -1.18867680e-03, -7.85316341e-04,\n",
       "         -1.00803119e-03, -1.33139663e-03, -1.32070715e-03,\n",
       "         -8.74799225e-05],\n",
       "        [ 7.63237360e-04, -1.52195990e-03,  3.80972080e-04,\n",
       "         -4.85705124e-04,  8.56092724e-04, -2.70195975e-04,\n",
       "          3.04153335e-04, -5.45438612e-04, -2.00170744e-03,\n",
       "         -4.30455140e-04],\n",
       "        [-9.93737835e-04,  3.52431962e-04,  3.20345192e-04,\n",
       "         -7.30624131e-04, -1.24039454e-03, -3.75492615e-04,\n",
       "          1.65750651e-04, -6.24670138e-05, -1.72920882e-05,\n",
       "         -9.95768467e-04],\n",
       "        [ 3.17919592e-04, -1.08457007e-03, -2.93039018e-04,\n",
       "         -1.18347707e-04, -1.45310920e-03, -5.77135710e-04,\n",
       "          2.12714309e-03, -9.48219094e-04,  6.84808008e-04,\n",
       "          4.60574316e-04],\n",
       "        [-1.46543584e-03, -3.71128961e-04, -8.59261141e-04,\n",
       "          2.89726071e-04,  1.97812682e-03,  2.79619102e-03,\n",
       "         -7.22175697e-04, -3.67045403e-04,  6.29813003e-05,\n",
       "          1.85096535e-04],\n",
       "        [ 7.80165792e-05,  6.37787511e-04, -2.34255847e-03,\n",
       "          5.55628329e-04, -2.22205519e-04,  2.10396232e-04,\n",
       "          1.31337543e-03, -2.83633271e-04,  9.11282084e-04,\n",
       "          7.49368104e-04],\n",
       "        [ 6.37589255e-04, -2.05386677e-05, -1.66346249e-03,\n",
       "          6.95794704e-04, -9.05858178e-05, -8.61904293e-04,\n",
       "          1.31555053e-03,  2.55056657e-04, -2.76508741e-03,\n",
       "          9.27011424e-04],\n",
       "        [-3.56332021e-04,  8.28076736e-04,  1.72738102e-04,\n",
       "          3.33090691e-04,  9.30848299e-04, -2.87551120e-05,\n",
       "          1.05969678e-03,  1.64558442e-04,  1.22149315e-04,\n",
       "          6.71614369e-04],\n",
       "        [ 8.39425426e-04,  6.02522457e-04, -4.30109270e-04,\n",
       "          6.92768313e-04, -3.86090571e-04,  4.00590153e-07,\n",
       "          2.15492235e-03, -5.52102225e-04, -9.25344706e-04,\n",
       "         -8.97258404e-04],\n",
       "        [-1.33656338e-03, -9.23059852e-05,  2.39997613e-03,\n",
       "          1.03212870e-03,  2.57369666e-03, -1.38545483e-05,\n",
       "          4.63438977e-04,  4.28501749e-04,  5.63371985e-04,\n",
       "         -1.84188641e-04],\n",
       "        [-4.33940062e-04, -2.26817373e-03, -1.47442264e-03,\n",
       "          2.75052607e-05, -8.12886341e-04,  2.35569751e-05,\n",
       "         -1.11254700e-03,  3.74686439e-04,  1.93547865e-03,\n",
       "          6.85646140e-04],\n",
       "        [ 1.32518262e-03, -8.51300487e-04,  1.15763617e-03,\n",
       "          4.82758442e-05, -1.73565131e-04, -2.14462844e-03,\n",
       "          1.09099674e-04, -3.60399281e-04, -1.52433277e-04,\n",
       "         -8.62714020e-04],\n",
       "        [ 3.60413658e-04, -9.04639543e-04,  5.11002378e-04,\n",
       "          1.58538285e-03,  1.21244644e-04, -5.93102886e-05,\n",
       "          2.92334415e-04,  1.69300090e-03,  3.73272560e-05,\n",
       "          1.42035497e-04],\n",
       "        [-8.03882780e-04,  5.19758556e-04,  2.06673853e-04,\n",
       "          6.62015344e-04,  6.04826666e-04, -1.26569788e-03,\n",
       "          3.72300303e-04, -8.38307489e-04,  1.82255858e-03,\n",
       "          3.56622215e-04],\n",
       "        [-5.34600113e-04, -8.80838837e-04, -9.88246291e-04,\n",
       "          1.36068754e-03,  1.12801057e-03, -1.67237211e-03,\n",
       "         -2.81048589e-03, -1.94271456e-03,  6.65179905e-05,\n",
       "         -9.54995689e-04],\n",
       "        [ 1.58493101e-04, -1.69013234e-04, -8.93475226e-05,\n",
       "         -8.75579135e-05,  5.73433586e-04,  1.25395542e-03,\n",
       "          1.06829839e-05,  1.78941165e-03, -1.01546152e-03,\n",
       "          1.64316647e-04],\n",
       "        [ 1.63991796e-03,  7.11562345e-04,  4.92031395e-04,\n",
       "         -9.43471678e-04,  2.22427770e-03, -4.32553352e-04,\n",
       "          2.93951540e-04,  6.77241944e-04, -1.11586612e-03,\n",
       "         -2.75091807e-05],\n",
       "        [-2.07745330e-03,  6.08493167e-04,  4.35216032e-04,\n",
       "         -6.76173542e-04,  1.16888434e-04,  1.04668341e-03,\n",
       "          5.84569469e-04, -9.08231596e-04,  8.26951698e-04,\n",
       "          1.04059186e-03],\n",
       "        [ 9.16082990e-06,  1.00740348e-03, -1.16769911e-03,\n",
       "         -1.17600977e-03,  9.47236374e-04,  1.37325970e-03,\n",
       "         -7.06364983e-04, -1.27494195e-03, -5.28633245e-05,\n",
       "          1.05866662e-03],\n",
       "        [ 5.24635019e-04,  1.91973988e-04, -4.05507337e-04,\n",
       "         -7.67671794e-04, -1.21201342e-03, -5.20349655e-04,\n",
       "         -1.94149581e-03,  7.78539805e-04,  1.22563576e-03,\n",
       "         -3.35501682e-05],\n",
       "        [-4.38192510e-04, -6.10730785e-04, -1.70098688e-03,\n",
       "          2.72006379e-04, -1.04943023e-03, -7.15610047e-04,\n",
       "          7.47234793e-04,  7.15885661e-04,  1.08107645e-03,\n",
       "         -3.59698926e-04],\n",
       "        [-1.13500166e-03,  7.04932492e-04,  1.34092418e-03,\n",
       "          1.47990556e-03, -3.41083418e-04,  3.77543853e-04,\n",
       "          7.90411665e-04,  4.73903900e-04, -6.02260639e-04,\n",
       "          1.92241557e-03],\n",
       "        [ 5.13172825e-04, -1.56575243e-03,  1.22521387e-03,\n",
       "          1.19509920e-03, -5.85889968e-04, -1.76948472e-03,\n",
       "          3.77985038e-04,  7.27662817e-04, -3.56385572e-05,\n",
       "         -1.07077984e-04],\n",
       "        [-1.72143674e-03, -9.13114985e-04, -8.79316416e-04,\n",
       "         -1.62532355e-03,  4.76355519e-04,  5.79326530e-04,\n",
       "         -1.05702656e-03, -1.21956022e-04, -1.24510995e-03,\n",
       "         -3.57703480e-04],\n",
       "        [ 4.29256674e-04, -1.10009033e-03, -6.17498008e-04,\n",
       "         -8.00133857e-04, -5.99486171e-04,  8.19347566e-04,\n",
       "         -1.35544047e-03, -4.42059158e-04, -4.20426004e-05,\n",
       "         -1.21897692e-03],\n",
       "        [ 7.74881337e-04, -4.15376067e-04, -6.62794861e-04,\n",
       "          4.12987545e-04,  1.80510723e-03, -1.24115415e-03,\n",
       "          2.17445529e-04, -6.92286820e-04,  3.43683467e-04,\n",
       "          3.56441393e-04],\n",
       "        [ 5.11603372e-04,  7.26295693e-04,  3.06423986e-04,\n",
       "          1.32889341e-04,  9.42021958e-04,  4.34025016e-04,\n",
       "          1.23399461e-03,  8.73546742e-05,  1.11831608e-03,\n",
       "         -1.26867951e-03],\n",
       "        [-3.35277815e-04,  4.83269425e-04,  3.05746886e-04,\n",
       "         -4.73571970e-04,  5.28520148e-04, -1.10033725e-03,\n",
       "         -4.84247867e-04, -6.38692640e-04, -1.32158201e-03,\n",
       "          3.74602459e-05],\n",
       "        [-2.52622017e-03,  8.46972580e-06,  1.58447277e-04,\n",
       "         -1.64593512e-03,  6.02175249e-04,  1.97731750e-03,\n",
       "         -8.49310367e-04,  1.04227138e-03,  5.48459415e-04,\n",
       "         -4.18156938e-04],\n",
       "        [ 1.14537694e-03,  1.12911162e-03, -3.07621754e-04,\n",
       "          7.50882959e-04,  1.08824414e-03, -1.76071865e-03,\n",
       "          5.01657836e-04, -5.41281886e-04, -2.12236468e-04,\n",
       "         -1.78360415e-03],\n",
       "        [-7.09844171e-04,  1.74694927e-03,  4.52482345e-04,\n",
       "          5.88357449e-04, -1.91713544e-03, -1.05817080e-03,\n",
       "          3.17186757e-04,  7.38635892e-04,  1.82048872e-03,\n",
       "          1.74005085e-03],\n",
       "        [ 1.71609852e-03,  1.64650590e-03,  8.42626789e-04,\n",
       "         -8.20435409e-04,  3.89252207e-04, -2.52364465e-04,\n",
       "          6.69333967e-04,  7.74585060e-04,  1.92159627e-04,\n",
       "          1.03442161e-03],\n",
       "        [-4.51887609e-04, -3.52330331e-04, -6.70997833e-04,\n",
       "          7.51797343e-04,  1.79761357e-03,  2.89172633e-04,\n",
       "         -4.33608715e-04, -1.44479657e-03,  2.97917926e-04,\n",
       "         -4.34183603e-04],\n",
       "        [ 1.79898832e-03,  2.59847089e-04, -7.93607032e-04,\n",
       "         -2.90230328e-05, -7.45835059e-05,  2.90167489e-04,\n",
       "         -6.09943294e-04, -4.31045133e-04, -6.19020546e-04,\n",
       "         -5.28058386e-04],\n",
       "        [ 1.14352116e-03, -9.13999742e-04,  7.12599605e-04,\n",
       "          1.59897271e-03,  9.34577954e-04, -1.70822430e-03,\n",
       "          6.73312228e-04, -1.89090229e-03, -3.43697640e-04,\n",
       "          1.27662485e-03],\n",
       "        [-2.47017142e-05, -2.05824780e-03,  1.76053529e-03,\n",
       "          5.02863695e-05, -7.67158708e-05,  1.86672749e-03,\n",
       "         -1.54311094e-03,  1.28268497e-03,  6.93175476e-04,\n",
       "          1.62880355e-03],\n",
       "        [ 2.57522776e-03,  1.46614807e-03, -1.16366870e-03,\n",
       "          6.58924168e-04,  9.67149797e-04,  5.14425512e-04,\n",
       "         -3.01221124e-04, -1.03761966e-03,  6.39542268e-05,\n",
       "          7.88759789e-04],\n",
       "        [-1.22266554e-03, -7.50939478e-04, -1.99659509e-04,\n",
       "         -9.63838072e-04,  1.60767103e-03,  1.24136277e-04,\n",
       "          9.21668543e-04,  2.71695986e-04,  2.70384335e-04,\n",
       "          3.02902103e-04],\n",
       "        [-3.13119614e-04, -1.57107937e-03, -1.04041246e-03,\n",
       "          3.39445396e-05, -6.63421990e-04,  9.82988626e-04,\n",
       "          2.56568746e-04,  7.86156743e-04, -5.73933939e-05,\n",
       "          4.47018567e-04],\n",
       "        [-8.42619687e-04, -5.50093537e-04,  9.74254275e-04,\n",
       "          4.56480891e-04,  6.52003684e-04, -3.29196919e-04,\n",
       "         -2.32747901e-04, -4.92118765e-04, -5.08660567e-04,\n",
       "          1.64689659e-03],\n",
       "        [ 5.76202037e-05, -2.20503571e-04, -1.26216165e-03,\n",
       "          2.53908511e-04,  3.64960695e-04, -8.00547205e-05,\n",
       "          6.78149954e-05, -1.29178085e-03, -9.60051198e-04,\n",
       "          1.88192632e-03],\n",
       "        [-3.36639670e-04, -2.43720759e-04, -1.57092349e-03,\n",
       "          7.22621975e-04,  9.96312941e-04, -4.95099230e-04,\n",
       "          2.85379356e-04,  5.07522840e-04,  4.51162923e-04,\n",
       "         -6.13652635e-04],\n",
       "        [-3.18723251e-05, -8.35856481e-04,  3.62700375e-04,\n",
       "          1.04834000e-03,  9.06694448e-04,  9.03447566e-04,\n",
       "         -3.76723881e-04, -1.90819497e-03, -1.49724001e-04,\n",
       "          3.12709017e-04],\n",
       "        [ 1.36718794e-03,  9.55404630e-06, -1.72527542e-03,\n",
       "          2.28616627e-04, -1.98705529e-04, -2.64735403e-03,\n",
       "          1.03973073e-03, -9.19667582e-05, -2.72705744e-04,\n",
       "         -5.04357704e-05],\n",
       "        [ 1.08996616e-03,  1.50449201e-03,  2.22889459e-04,\n",
       "         -1.06771570e-03,  1.50294614e-03,  7.15260219e-04,\n",
       "          1.29688560e-04, -1.73363776e-03, -8.31049401e-05,\n",
       "          1.34646741e-03],\n",
       "        [ 1.68930870e-04, -1.83811411e-03,  1.81191962e-03,\n",
       "         -6.37745659e-04,  1.11240661e-05,  4.19435266e-04,\n",
       "         -8.78412102e-04, -8.13041872e-04,  3.36508296e-04,\n",
       "          1.43107120e-03],\n",
       "        [-8.73118464e-04,  1.74535235e-04, -3.04170244e-04,\n",
       "         -1.31268625e-03,  3.45054606e-04, -1.25091663e-03,\n",
       "         -2.25039505e-04,  1.32110354e-03,  7.41770200e-04,\n",
       "          6.20379578e-04],\n",
       "        [-1.23554806e-03, -2.90317868e-04, -1.10355229e-03,\n",
       "          1.50305755e-03, -2.34491599e-05, -3.50954157e-04,\n",
       "          3.44871107e-04,  8.91460659e-05,  1.37336075e-03,\n",
       "         -1.54785288e-03],\n",
       "        [ 2.70478358e-03,  1.48941705e-03, -6.05965208e-04,\n",
       "         -1.53385743e-04, -2.16344418e-03, -9.89760505e-04,\n",
       "          1.25523796e-03, -1.24012388e-03, -5.89556410e-04,\n",
       "          7.51782791e-04],\n",
       "        [ 2.05400772e-03, -2.72459351e-03,  4.51496686e-04,\n",
       "          4.93159459e-04,  1.22660131e-03, -4.50048887e-04,\n",
       "          1.52992594e-04,  1.35829591e-03, -2.59298249e-04,\n",
       "         -1.06720591e-03],\n",
       "        [-4.31076740e-04,  6.73235918e-04, -1.61132927e-03,\n",
       "         -6.72837952e-04,  4.29736217e-04,  9.57862067e-04,\n",
       "          1.49254024e-03, -8.82564636e-04, -3.84328625e-04,\n",
       "          1.47219798e-05],\n",
       "        [ 1.56207895e-03,  5.30846301e-04, -2.01731746e-04,\n",
       "          9.58397519e-04,  2.09730119e-03, -1.10271724e-03,\n",
       "         -1.09528145e-03,  5.80398249e-04, -2.03496325e-04,\n",
       "          7.87629979e-04],\n",
       "        [-4.13756818e-04, -1.00867765e-03, -9.30699607e-05,\n",
       "         -5.40144159e-04, -9.99704585e-04, -1.41826784e-03,\n",
       "         -4.85380413e-04, -2.80668144e-04, -1.08106807e-03,\n",
       "          2.01049331e-03],\n",
       "        [ 9.09417809e-04,  8.90534255e-04,  3.18188482e-04,\n",
       "          1.06129039e-03, -2.11044191e-03, -1.52308471e-03,\n",
       "          1.98000437e-03, -9.77395335e-04, -3.23162822e-04,\n",
       "          5.25345560e-04],\n",
       "        [ 1.85134390e-03,  3.39128659e-04,  1.37127971e-03,\n",
       "          7.99059521e-08, -1.92921993e-03, -5.11285907e-04,\n",
       "         -7.64971832e-04,  1.67630333e-03,  3.03740409e-04,\n",
       "         -9.19489597e-04],\n",
       "        [-6.73111528e-04,  6.05994603e-04,  4.45164886e-04,\n",
       "          3.86807602e-04, -5.14656480e-04, -6.00563129e-04,\n",
       "         -4.21532284e-04, -5.11849939e-04, -7.46120815e-04,\n",
       "          8.37674423e-04],\n",
       "        [ 4.46848135e-04, -5.94518380e-04, -4.54951631e-04,\n",
       "         -6.02315304e-05,  1.17333641e-03, -5.45133589e-05,\n",
       "          2.78038019e-03, -7.12511595e-04,  1.15957868e-03,\n",
       "          1.01738190e-03],\n",
       "        [-1.42108265e-03,  2.88834190e-03,  2.81517219e-04,\n",
       "          3.83245904e-04,  1.32730012e-04, -9.46709362e-04,\n",
       "          5.18670189e-04, -1.03406177e-03, -2.50074198e-03,\n",
       "          1.53516070e-03],\n",
       "        [ 1.17503083e-03,  5.45228177e-05,  5.63718786e-04,\n",
       "         -9.95639828e-04,  1.31440524e-03,  3.37165431e-04,\n",
       "          7.07440893e-04, -5.61106717e-04,  6.48788176e-04,\n",
       "         -1.30697759e-03],\n",
       "        [-6.05435518e-04,  4.64178884e-04, -1.49306055e-04,\n",
       "         -1.87915677e-04,  1.10865505e-04, -1.34998956e-03,\n",
       "         -1.02440396e-03, -1.02516112e-03,  1.40721572e-03,\n",
       "         -9.18548787e-04],\n",
       "        [-1.51024957e-04,  1.07655581e-03, -8.33181664e-04,\n",
       "          7.63820863e-05,  1.48256216e-03,  4.72487824e-04,\n",
       "          2.47386139e-04,  4.74005239e-04, -1.32457761e-03,\n",
       "          5.82032546e-04],\n",
       "        [-1.05975964e-03, -9.87671549e-04, -6.27581612e-05,\n",
       "         -3.98396369e-04,  2.93030287e-04, -1.28413073e-03,\n",
       "          7.15986534e-04,  1.25645672e-03, -5.85890550e-04,\n",
       "          4.95586952e-04],\n",
       "        [ 5.60344022e-04,  3.59362166e-04,  3.98848206e-04,\n",
       "         -9.98378964e-04, -8.00195092e-04, -8.76098813e-04,\n",
       "          1.09314872e-03, -5.43433591e-04, -1.31677225e-04,\n",
       "         -4.55283356e-04],\n",
       "        [-1.87140657e-03, -1.61204516e-04,  1.41503348e-03,\n",
       "         -2.76785693e-04, -1.67604990e-03,  1.03467354e-03,\n",
       "          1.75272336e-03, -3.84086190e-04,  1.80939725e-03,\n",
       "         -5.22340240e-04],\n",
       "        [-5.31668891e-04,  6.59124285e-04,  2.30457215e-03,\n",
       "         -5.72207617e-04,  3.63078201e-04,  5.90761134e-04,\n",
       "         -8.31789584e-05,  6.71997142e-04,  1.37133314e-03,\n",
       "         -1.27460866e-04],\n",
       "        [ 1.19780167e-03,  1.28112151e-03, -2.95366772e-04,\n",
       "         -2.03179123e-04, -1.95573084e-04, -1.20200904e-03,\n",
       "          1.38834381e-04, -2.54837942e-04, -1.06880337e-03,\n",
       "          1.93385023e-03],\n",
       "        [ 6.83616556e-04, -2.92721350e-04,  6.26172696e-04,\n",
       "          7.32481538e-04, -3.78989585e-04, -2.21371860e-03,\n",
       "          1.16227113e-03,  1.88595295e-04, -1.01788646e-04,\n",
       "         -1.07234041e-03],\n",
       "        [ 1.29131461e-03, -1.65175006e-04,  6.07716211e-04,\n",
       "          7.18677547e-05, -3.17091646e-04,  3.23076412e-04,\n",
       "         -1.35762955e-03,  1.42267940e-03,  1.10884837e-03,\n",
       "          2.23436378e-04],\n",
       "        [-4.64176177e-04,  2.41104121e-04, -1.44363416e-03,\n",
       "         -1.21576164e-03,  1.65634221e-04, -2.15917011e-03,\n",
       "         -1.46841269e-03, -5.51180390e-04, -1.98448019e-04,\n",
       "         -3.52653064e-04],\n",
       "        [ 8.81009153e-04, -1.39444694e-03, -1.56622136e-03,\n",
       "         -1.22224784e-03, -1.36860716e-03,  2.11417465e-03,\n",
       "          2.97152495e-04, -3.26422800e-04,  1.32573640e-03,\n",
       "          7.76954170e-04],\n",
       "        [-3.07426526e-04, -4.86331846e-04,  1.46008702e-03,\n",
       "         -2.32459488e-03, -3.41310166e-04, -3.08707327e-04,\n",
       "          4.16484574e-04, -2.41334969e-03,  1.01270236e-03,\n",
       "         -9.78736905e-04],\n",
       "        [ 2.11307476e-03,  6.59356010e-04,  1.27254520e-03,\n",
       "          2.16008769e-03,  2.45785434e-03, -9.79927485e-04,\n",
       "          6.80644938e-04, -2.22636136e-05,  6.41890510e-04,\n",
       "         -7.92293984e-04],\n",
       "        [ 9.46533459e-04, -2.18058703e-03, -1.30213972e-03,\n",
       "         -1.72390486e-04,  1.01503485e-03,  9.34538548e-05,\n",
       "         -1.21382205e-03,  1.00573164e-03, -1.84387749e-03,\n",
       "         -1.90775155e-03],\n",
       "        [ 1.45391258e-03,  7.40017393e-04,  8.62835732e-04,\n",
       "          9.49240930e-04,  1.04692986e-03, -4.34244925e-04,\n",
       "         -1.66053796e-04, -7.69078382e-04, -2.06831653e-04,\n",
       "          9.85389110e-04],\n",
       "        [-1.30017428e-03,  2.58845335e-04, -1.08821818e-03,\n",
       "          1.13462775e-04,  7.39243173e-04,  1.06301115e-04,\n",
       "          2.55900086e-04,  4.14970971e-04, -3.71696427e-04,\n",
       "         -5.81412518e-04],\n",
       "        [ 4.68644401e-04,  5.78101062e-05, -1.15939812e-03,\n",
       "         -9.39207210e-04, -1.02336181e-03,  4.25053586e-04,\n",
       "         -3.13027325e-04,  1.65954771e-04, -8.65590118e-05,\n",
       "         -7.84492993e-04],\n",
       "        [-2.02683476e-03,  2.25235985e-04, -3.05396202e-03,\n",
       "          1.18507305e-04, -1.80885929e-03, -2.70096964e-04,\n",
       "         -1.56416139e-03, -2.75574648e-03,  2.39617960e-03,\n",
       "         -7.46161561e-04],\n",
       "        [ 5.79081592e-04, -2.52564030e-04,  1.03525724e-03,\n",
       "         -1.53193402e-03,  2.26484146e-04, -1.23925711e-04,\n",
       "          1.28802669e-03, -1.91649841e-03,  4.23127669e-04,\n",
       "          2.12278595e-04],\n",
       "        [ 2.78936233e-04,  6.90622663e-04, -7.33587221e-05,\n",
       "         -8.23497612e-05,  1.66693819e-04, -1.80542900e-03,\n",
       "         -8.50628188e-04, -1.38863848e-04, -2.13325350e-03,\n",
       "          7.86708319e-04],\n",
       "        [-1.66531792e-03,  3.64101329e-03, -1.09006869e-04,\n",
       "         -2.06544227e-03,  9.04392451e-04, -3.02186854e-05,\n",
       "          6.58682839e-05,  2.88017734e-04, -1.21004437e-03,\n",
       "         -9.32291674e-04],\n",
       "        [-2.49437318e-04, -4.35861002e-04,  9.06119298e-04,\n",
       "          5.79708467e-05, -1.02218112e-03, -1.21959893e-03,\n",
       "         -9.14144985e-05,  7.75960507e-04, -6.11953088e-04,\n",
       "          4.81874769e-04]], dtype=float32), 'b3': array([0., 0., 0., 0., 0., 0., 0., 0., 0., 0.], dtype=float32)}"
      ]
     },
     "execution_count": 159,
     "metadata": {},
     "output_type": "execute_result"
    }
   ],
   "source": [
    "model.params"
   ]
  },
  {
   "cell_type": "markdown",
   "metadata": {},
   "source": [
    "## Gradient check\n",
    "After the loss looks reasonable, use numeric gradient checking to make sure that your backward pass is correct. When you use numeric gradient checking you should use a small amount of artifical data and a small number of neurons at each layer. Note: correct implementations may still have relative errors up to the order of e-2."
   ]
  },
  {
   "cell_type": "code",
   "execution_count": 204,
   "metadata": {},
   "outputs": [
    {
     "name": "stdout",
     "output_type": "stream",
     "text": [
      "W1 max relative error: 1.380104e-04\n",
      "W2 max relative error: 1.822723e-02\n",
      "W3 max relative error: 3.064049e-04\n",
      "b1 max relative error: 6.902893e-01\n",
      "b2 max relative error: 2.516375e-03\n",
      "b3 max relative error: 7.945660e-10\n"
     ]
    }
   ],
   "source": [
    "num_inputs = 2\n",
    "input_dim = (3, 16, 16)\n",
    "reg = 0.0\n",
    "num_classes = 10\n",
    "np.random.seed(231)\n",
    "X = np.random.randn(num_inputs, *input_dim)\n",
    "y = np.random.randint(num_classes, size=num_inputs)\n",
    "\n",
    "model = ThreeLayerConvNet(num_filters=3, filter_size=3,\n",
    "                          input_dim=input_dim, hidden_dim=7,\n",
    "                          dtype=np.float64)\n",
    "loss, grads = model.loss(X, y)\n",
    "# Errors should be small, but correct implementations may have\n",
    "# relative errors up to the order of e-2\n",
    "for param_name in sorted(grads):\n",
    "    f = lambda _: model.loss(X, y)[0]\n",
    "    param_grad_num = eval_numerical_gradient(f, model.params[param_name], verbose=False, h=1e-6)\n",
    "    e = rel_error(param_grad_num, grads[param_name])\n",
    "    print('%s max relative error: %e' % (param_name, rel_error(param_grad_num, grads[param_name])))"
   ]
  },
  {
   "cell_type": "code",
   "execution_count": 170,
   "metadata": {},
   "outputs": [
    {
     "data": {
      "text/plain": [
       "2.302585301275796"
      ]
     },
     "execution_count": 170,
     "metadata": {},
     "output_type": "execute_result"
    }
   ],
   "source": [
    "loss"
   ]
  },
  {
   "cell_type": "code",
   "execution_count": 193,
   "metadata": {},
   "outputs": [
    {
     "data": {
      "text/plain": [
       "(2, 3, 8, 8)"
      ]
     },
     "execution_count": 193,
     "metadata": {},
     "output_type": "execute_result"
    }
   ],
   "source": [
    "toy_pool_out = np.zeros((2, 3, 8, 8))\n",
    "toy_pool_out.shape"
   ]
  },
  {
   "cell_type": "code",
   "execution_count": 189,
   "metadata": {},
   "outputs": [
    {
     "data": {
      "text/plain": [
       "(2, 1, 192)"
      ]
     },
     "execution_count": 189,
     "metadata": {},
     "output_type": "execute_result"
    }
   ],
   "source": [
    "toy_pool_to_fc = np.zeros((2, 3, 8, 8)).reshape(2, 1, -1)\n",
    "toy_pool_to_fc.shape"
   ]
  },
  {
   "cell_type": "code",
   "execution_count": 194,
   "metadata": {},
   "outputs": [],
   "source": [
    "fc_unit = toy_pool_to_fc.shape[-1]\n",
    "N, C, p_f, _ = toy_pool_out.shape "
   ]
  },
  {
   "cell_type": "code",
   "execution_count": 195,
   "metadata": {},
   "outputs": [
    {
     "data": {
      "text/plain": [
       "(2, 192)"
      ]
     },
     "execution_count": 195,
     "metadata": {},
     "output_type": "execute_result"
    }
   ],
   "source": [
    "N, fc_unit"
   ]
  },
  {
   "cell_type": "code",
   "execution_count": 198,
   "metadata": {},
   "outputs": [
    {
     "data": {
      "text/plain": [
       "(2, 3, 8, 8)"
      ]
     },
     "execution_count": 198,
     "metadata": {},
     "output_type": "execute_result"
    }
   ],
   "source": [
    "(N, fc_unit // (p_f**2), fc_unit//(p_f*C), fc_unit//(p_f*C))"
   ]
  },
  {
   "cell_type": "code",
   "execution_count": null,
   "metadata": {},
   "outputs": [],
   "source": [
    "(toy_pool_to_fc.shape[0], toy_pool_to_fc[2]/(toy))"
   ]
  },
  {
   "cell_type": "code",
   "execution_count": 187,
   "metadata": {},
   "outputs": [
    {
     "data": {
      "text/plain": [
       "(2, 1, 192)"
      ]
     },
     "execution_count": 187,
     "metadata": {},
     "output_type": "execute_result"
    }
   ],
   "source": [
    "toy_fc_to_pool = toy_pool_to_fc.reshape((toy))"
   ]
  },
  {
   "cell_type": "code",
   "execution_count": 167,
   "metadata": {},
   "outputs": [
    {
     "data": {
      "text/plain": [
       "(2, 1, 192)"
      ]
     },
     "execution_count": 167,
     "metadata": {},
     "output_type": "execute_result"
    }
   ],
   "source": [
    "np.zeros((2, 3, 8, 8)).reshape(2, 1, -1).shape"
   ]
  },
  {
   "cell_type": "code",
   "execution_count": 183,
   "metadata": {},
   "outputs": [
    {
     "data": {
      "text/plain": [
       "3"
      ]
     },
     "execution_count": 183,
     "metadata": {},
     "output_type": "execute_result"
    }
   ],
   "source": [
    "int(192/(8*8))"
   ]
  },
  {
   "cell_type": "code",
   "execution_count": 184,
   "metadata": {},
   "outputs": [
    {
     "data": {
      "text/plain": [
       "8.0"
      ]
     },
     "execution_count": 184,
     "metadata": {},
     "output_type": "execute_result"
    }
   ],
   "source": [
    "192/24"
   ]
  },
  {
   "cell_type": "code",
   "execution_count": 179,
   "metadata": {},
   "outputs": [
    {
     "data": {
      "text/plain": [
       "array([[[0., 0., 0., 0., 0., 0., 0., 0., 0., 0., 0., 0., 0., 0., 0., 0.,\n",
       "         0., 0., 0., 0., 0., 0., 0., 0., 0., 0., 0., 0., 0., 0., 0., 0.,\n",
       "         0., 0., 0., 0., 0., 0., 0., 0., 0., 0., 0., 0., 0., 0., 0., 0.,\n",
       "         0., 0., 0., 0., 0., 0., 0., 0., 0., 0., 0., 0., 0., 0., 0., 0.,\n",
       "         0., 0., 0., 0., 0., 0., 0., 0., 0., 0., 0., 0., 0., 0., 0., 0.,\n",
       "         0., 0., 0., 0., 0., 0., 0., 0., 0., 0., 0., 0., 0., 0., 0., 0.,\n",
       "         0., 0., 0., 0., 0., 0., 0., 0., 0., 0., 0., 0., 0., 0., 0., 0.,\n",
       "         0., 0., 0., 0., 0., 0., 0., 0., 0., 0., 0., 0., 0., 0., 0., 0.,\n",
       "         0., 0., 0., 0., 0., 0., 0., 0., 0., 0., 0., 0., 0., 0., 0., 0.,\n",
       "         0., 0., 0., 0., 0., 0., 0., 0., 0., 0., 0., 0., 0., 0., 0., 0.,\n",
       "         0., 0., 0., 0., 0., 0., 0., 0., 0., 0., 0., 0., 0., 0., 0., 0.,\n",
       "         0., 0., 0., 0., 0., 0., 0., 0., 0., 0., 0., 0., 0., 0., 0., 0.]],\n",
       "\n",
       "       [[0., 0., 0., 0., 0., 0., 0., 0., 0., 0., 0., 0., 0., 0., 0., 0.,\n",
       "         0., 0., 0., 0., 0., 0., 0., 0., 0., 0., 0., 0., 0., 0., 0., 0.,\n",
       "         0., 0., 0., 0., 0., 0., 0., 0., 0., 0., 0., 0., 0., 0., 0., 0.,\n",
       "         0., 0., 0., 0., 0., 0., 0., 0., 0., 0., 0., 0., 0., 0., 0., 0.,\n",
       "         0., 0., 0., 0., 0., 0., 0., 0., 0., 0., 0., 0., 0., 0., 0., 0.,\n",
       "         0., 0., 0., 0., 0., 0., 0., 0., 0., 0., 0., 0., 0., 0., 0., 0.,\n",
       "         0., 0., 0., 0., 0., 0., 0., 0., 0., 0., 0., 0., 0., 0., 0., 0.,\n",
       "         0., 0., 0., 0., 0., 0., 0., 0., 0., 0., 0., 0., 0., 0., 0., 0.,\n",
       "         0., 0., 0., 0., 0., 0., 0., 0., 0., 0., 0., 0., 0., 0., 0., 0.,\n",
       "         0., 0., 0., 0., 0., 0., 0., 0., 0., 0., 0., 0., 0., 0., 0., 0.,\n",
       "         0., 0., 0., 0., 0., 0., 0., 0., 0., 0., 0., 0., 0., 0., 0., 0.,\n",
       "         0., 0., 0., 0., 0., 0., 0., 0., 0., 0., 0., 0., 0., 0., 0., 0.]]])"
      ]
     },
     "execution_count": 179,
     "metadata": {},
     "output_type": "execute_result"
    }
   ],
   "source": [
    "np.zeros((2, 1, 192)).reshape()"
   ]
  },
  {
   "cell_type": "markdown",
   "metadata": {},
   "source": [
    "## Overfit small data\n",
    "A nice trick is to train your model with just a few training samples. You should be able to overfit small datasets, which will result in very high training accuracy and comparatively low validation accuracy."
   ]
  },
  {
   "cell_type": "code",
   "execution_count": 209,
   "metadata": {},
   "outputs": [
    {
     "name": "stdout",
     "output_type": "stream",
     "text": [
      "(Iteration 1 / 30) loss: 2.414060\n",
      "(Epoch 0 / 15) train acc: 0.200000; val_acc: 0.137000\n",
      "(Iteration 2 / 30) loss: 3.102925\n",
      "(Epoch 1 / 15) train acc: 0.140000; val_acc: 0.087000\n",
      "(Iteration 3 / 30) loss: 2.270330\n",
      "(Iteration 4 / 30) loss: 2.096705\n",
      "(Epoch 2 / 15) train acc: 0.240000; val_acc: 0.094000\n",
      "(Iteration 5 / 30) loss: 1.838880\n",
      "(Iteration 6 / 30) loss: 1.934188\n",
      "(Epoch 3 / 15) train acc: 0.510000; val_acc: 0.173000\n",
      "(Iteration 7 / 30) loss: 1.827912\n",
      "(Iteration 8 / 30) loss: 1.639574\n",
      "(Epoch 4 / 15) train acc: 0.520000; val_acc: 0.188000\n",
      "(Iteration 9 / 30) loss: 1.330082\n",
      "(Iteration 10 / 30) loss: 1.756115\n",
      "(Epoch 5 / 15) train acc: 0.630000; val_acc: 0.167000\n",
      "(Iteration 11 / 30) loss: 1.024162\n",
      "(Iteration 12 / 30) loss: 1.041826\n",
      "(Epoch 6 / 15) train acc: 0.750000; val_acc: 0.229000\n",
      "(Iteration 13 / 30) loss: 1.142777\n",
      "(Iteration 14 / 30) loss: 0.835706\n",
      "(Epoch 7 / 15) train acc: 0.790000; val_acc: 0.247000\n",
      "(Iteration 15 / 30) loss: 0.587786\n",
      "(Iteration 16 / 30) loss: 0.645509\n",
      "(Epoch 8 / 15) train acc: 0.820000; val_acc: 0.252000\n",
      "(Iteration 17 / 30) loss: 0.786844\n",
      "(Iteration 18 / 30) loss: 0.467054\n",
      "(Epoch 9 / 15) train acc: 0.820000; val_acc: 0.178000\n",
      "(Iteration 19 / 30) loss: 0.429880\n",
      "(Iteration 20 / 30) loss: 0.635498\n",
      "(Epoch 10 / 15) train acc: 0.900000; val_acc: 0.206000\n",
      "(Iteration 21 / 30) loss: 0.365807\n",
      "(Iteration 22 / 30) loss: 0.284220\n",
      "(Epoch 11 / 15) train acc: 0.820000; val_acc: 0.201000\n",
      "(Iteration 23 / 30) loss: 0.469343\n",
      "(Iteration 24 / 30) loss: 0.509369\n",
      "(Epoch 12 / 15) train acc: 0.920000; val_acc: 0.211000\n",
      "(Iteration 25 / 30) loss: 0.111638\n",
      "(Iteration 26 / 30) loss: 0.145388\n",
      "(Epoch 13 / 15) train acc: 0.930000; val_acc: 0.213000\n",
      "(Iteration 27 / 30) loss: 0.155575\n",
      "(Iteration 28 / 30) loss: 0.143398\n",
      "(Epoch 14 / 15) train acc: 0.960000; val_acc: 0.212000\n",
      "(Iteration 29 / 30) loss: 0.158160\n",
      "(Iteration 30 / 30) loss: 0.118934\n",
      "(Epoch 15 / 15) train acc: 0.990000; val_acc: 0.220000\n"
     ]
    }
   ],
   "source": [
    "np.random.seed(231)\n",
    "\n",
    "num_train = 100\n",
    "small_data = {\n",
    "  'X_train': data['X_train'][:num_train],\n",
    "  'y_train': data['y_train'][:num_train],\n",
    "  'X_val': data['X_val'],\n",
    "  'y_val': data['y_val'],\n",
    "}\n",
    "\n",
    "model = ThreeLayerConvNet(weight_scale=1e-2)\n",
    "\n",
    "solver = Solver(model, small_data,\n",
    "                num_epochs=15, batch_size=50,\n",
    "                update_rule='adam',\n",
    "                optim_config={\n",
    "                  'learning_rate': 1e-3,\n",
    "                },\n",
    "                verbose=True, print_every=1)\n",
    "solver.train()"
   ]
  },
  {
   "cell_type": "markdown",
   "metadata": {},
   "source": [
    "Plotting the loss, training accuracy, and validation accuracy should show clear overfitting:"
   ]
  },
  {
   "cell_type": "code",
   "execution_count": 210,
   "metadata": {},
   "outputs": [
    {
     "data": {
      "image/png": "[encoded data removed]",
      "text/plain": [
       "<Figure size 432x288 with 2 Axes>"
      ]
     },
     "metadata": {
      "needs_background": "light"
     },
     "output_type": "display_data"
    }
   ],
   "source": [
    "plt.subplot(2, 1, 1)\n",
    "plt.plot(solver.loss_history, 'o')\n",
    "plt.xlabel('iteration')\n",
    "plt.ylabel('loss')\n",
    "\n",
    "plt.subplot(2, 1, 2)\n",
    "plt.plot(solver.train_acc_history, '-o')\n",
    "plt.plot(solver.val_acc_history, '-o')\n",
    "plt.legend(['train', 'val'], loc='upper left')\n",
    "plt.xlabel('epoch')\n",
    "plt.ylabel('accuracy')\n",
    "plt.show()"
   ]
  },
  {
   "cell_type": "markdown",
   "metadata": {},
   "source": [
    "## Train the net\n",
    "By training the three-layer convolutional network for one epoch, you should achieve greater than 40% accuracy on the training set:"
   ]
  },
  {
   "cell_type": "code",
   "execution_count": 211,
   "metadata": {
    "scrolled": false
   },
   "outputs": [
    {
     "name": "stdout",
     "output_type": "stream",
     "text": [
      "(Iteration 1 / 980) loss: 2.304740\n",
      "(Epoch 0 / 1) train acc: 0.103000; val_acc: 0.107000\n",
      "(Iteration 21 / 980) loss: 2.098229\n",
      "(Iteration 41 / 980) loss: 1.949788\n",
      "(Iteration 61 / 980) loss: 1.888398\n",
      "(Iteration 81 / 980) loss: 1.877093\n",
      "(Iteration 101 / 980) loss: 1.851877\n",
      "(Iteration 121 / 980) loss: 1.859353\n",
      "(Iteration 141 / 980) loss: 1.800181\n",
      "(Iteration 161 / 980) loss: 2.143292\n",
      "(Iteration 181 / 980) loss: 1.830573\n",
      "(Iteration 201 / 980) loss: 2.037280\n",
      "(Iteration 221 / 980) loss: 2.020304\n",
      "(Iteration 241 / 980) loss: 1.823728\n",
      "(Iteration 261 / 980) loss: 1.692679\n",
      "(Iteration 281 / 980) loss: 1.882594\n",
      "(Iteration 301 / 980) loss: 1.798261\n",
      "(Iteration 321 / 980) loss: 1.851960\n",
      "(Iteration 341 / 980) loss: 1.716323\n",
      "(Iteration 361 / 980) loss: 1.897655\n",
      "(Iteration 381 / 980) loss: 1.319744\n",
      "(Iteration 401 / 980) loss: 1.738790\n",
      "(Iteration 421 / 980) loss: 1.488866\n",
      "(Iteration 441 / 980) loss: 1.718409\n",
      "(Iteration 461 / 980) loss: 1.744440\n",
      "(Iteration 481 / 980) loss: 1.605460\n",
      "(Iteration 501 / 980) loss: 1.494847\n",
      "(Iteration 521 / 980) loss: 1.835179\n",
      "(Iteration 541 / 980) loss: 1.483923\n",
      "(Iteration 561 / 980) loss: 1.676871\n",
      "(Iteration 581 / 980) loss: 1.438325\n",
      "(Iteration 601 / 980) loss: 1.443469\n",
      "(Iteration 621 / 980) loss: 1.529369\n",
      "(Iteration 641 / 980) loss: 1.763475\n",
      "(Iteration 661 / 980) loss: 1.790329\n",
      "(Iteration 681 / 980) loss: 1.693343\n",
      "(Iteration 701 / 980) loss: 1.637078\n",
      "(Iteration 721 / 980) loss: 1.644564\n",
      "(Iteration 741 / 980) loss: 1.708919\n",
      "(Iteration 761 / 980) loss: 1.494252\n",
      "(Iteration 781 / 980) loss: 1.901751\n",
      "(Iteration 801 / 980) loss: 1.898991\n",
      "(Iteration 821 / 980) loss: 1.489988\n",
      "(Iteration 841 / 980) loss: 1.377615\n",
      "(Iteration 861 / 980) loss: 1.763751\n",
      "(Iteration 881 / 980) loss: 1.540284\n",
      "(Iteration 901 / 980) loss: 1.525582\n",
      "(Iteration 921 / 980) loss: 1.674166\n",
      "(Iteration 941 / 980) loss: 1.714316\n",
      "(Iteration 961 / 980) loss: 1.534668\n",
      "(Epoch 1 / 1) train acc: 0.504000; val_acc: 0.499000\n"
     ]
    }
   ],
   "source": [
    "model = ThreeLayerConvNet(weight_scale=0.001, hidden_dim=500, reg=0.001)\n",
    "\n",
    "solver = Solver(model, data,\n",
    "                num_epochs=1, batch_size=50,\n",
    "                update_rule='adam',\n",
    "                optim_config={\n",
    "                  'learning_rate': 1e-3,\n",
    "                },\n",
    "                verbose=True, print_every=20)\n",
    "solver.train()"
   ]
  },
  {
   "cell_type": "markdown",
   "metadata": {},
   "source": [
    "## Visualize Filters\n",
    "You can visualize the first-layer convolutional filters from the trained network by running the following:"
   ]
  },
  {
   "cell_type": "code",
   "execution_count": 212,
   "metadata": {},
   "outputs": [
    {
     "data": {
      "image/png": "[encoded data removed]",
      "text/plain": [
       "<Figure size 360x360 with 1 Axes>"
      ]
     },
     "metadata": {
      "needs_background": "light"
     },
     "output_type": "display_data"
    }
   ],
   "source": [
    "from cs231n.vis_utils import visualize_grid\n",
    "\n",
    "grid = visualize_grid(model.params['W1'].transpose(0, 2, 3, 1))\n",
    "plt.imshow(grid.astype('uint8'))\n",
    "plt.axis('off')\n",
    "plt.gcf().set_size_inches(5, 5)\n",
    "plt.show()"
   ]
  },
  {
   "cell_type": "markdown",
   "metadata": {},
   "source": [
    "# Spatial Batch Normalization\n",
    "We already saw that batch normalization is a very useful technique for training deep fully-connected networks. As proposed in the original paper [3], batch normalization can also be used for convolutional networks, but we need to tweak it a bit; the modification will be called \"spatial batch normalization.\"\n",
    "\n",
    "Normally batch-normalization accepts inputs of shape `(N, D)` and produces outputs of shape `(N, D)`, where we normalize across the minibatch dimension `N`. For data coming from convolutional layers, batch normalization needs to accept inputs of shape `(N, C, H, W)` and produce outputs of shape `(N, C, H, W)` where the `N` dimension gives the minibatch size and the `(H, W)` dimensions give the spatial size of the feature map.\n",
    "\n",
    "If the feature map was produced using convolutions, then we expect the statistics of each feature channel to be relatively consistent both between different imagesand different locations within the same image. Therefore spatial batch normalization computes a mean and variance for each of the `C` feature channels by computing statistics over both the minibatch dimension `N` and the spatial dimensions `H` and `W`.\n",
    "\n",
    "\n",
    "[3] [Sergey Ioffe and Christian Szegedy, \"Batch Normalization: Accelerating Deep Network Training by Reducing\n",
    "Internal Covariate Shift\", ICML 2015.](https://arxiv.org/abs/1502.03167)"
   ]
  },
  {
   "cell_type": "markdown",
   "metadata": {},
   "source": [
    "## Spatial batch normalization: forward\n",
    "\n",
    "In the file `cs231n/layers.py`, implement the forward pass for spatial batch normalization in the function `spatial_batchnorm_forward`. Check your implementation by running the following:"
   ]
  },
  {
   "cell_type": "code",
   "execution_count": null,
   "metadata": {
    "collapsed": true
   },
   "outputs": [],
   "source": [
    "np.random.seed(231)\n",
    "# Check the training-time forward pass by checking means and variances\n",
    "# of features both before and after spatial batch normalization\n",
    "\n",
    "N, C, H, W = 2, 3, 4, 5\n",
    "x = 4 * np.random.randn(N, C, H, W) + 10\n",
    "\n",
    "print('Before spatial batch normalization:')\n",
    "print('  Shape: ', x.shape)\n",
    "print('  Means: ', x.mean(axis=(0, 2, 3)))\n",
    "print('  Stds: ', x.std(axis=(0, 2, 3)))\n",
    "\n",
    "# Means should be close to zero and stds close to one\n",
    "gamma, beta = np.ones(C), np.zeros(C)\n",
    "bn_param = {'mode': 'train'}\n",
    "out, _ = spatial_batchnorm_forward(x, gamma, beta, bn_param)\n",
    "print('After spatial batch normalization:')\n",
    "print('  Shape: ', out.shape)\n",
    "print('  Means: ', out.mean(axis=(0, 2, 3)))\n",
    "print('  Stds: ', out.std(axis=(0, 2, 3)))\n",
    "\n",
    "# Means should be close to beta and stds close to gamma\n",
    "gamma, beta = np.asarray([3, 4, 5]), np.asarray([6, 7, 8])\n",
    "out, _ = spatial_batchnorm_forward(x, gamma, beta, bn_param)\n",
    "print('After spatial batch normalization (nontrivial gamma, beta):')\n",
    "print('  Shape: ', out.shape)\n",
    "print('  Means: ', out.mean(axis=(0, 2, 3)))\n",
    "print('  Stds: ', out.std(axis=(0, 2, 3)))"
   ]
  },
  {
   "cell_type": "code",
   "execution_count": null,
   "metadata": {
    "collapsed": true
   },
   "outputs": [],
   "source": [
    "np.random.seed(231)\n",
    "# Check the test-time forward pass by running the training-time\n",
    "# forward pass many times to warm up the running averages, and then\n",
    "# checking the means and variances of activations after a test-time\n",
    "# forward pass.\n",
    "N, C, H, W = 10, 4, 11, 12\n",
    "\n",
    "bn_param = {'mode': 'train'}\n",
    "gamma = np.ones(C)\n",
    "beta = np.zeros(C)\n",
    "for t in range(50):\n",
    "  x = 2.3 * np.random.randn(N, C, H, W) + 13\n",
    "  spatial_batchnorm_forward(x, gamma, beta, bn_param)\n",
    "bn_param['mode'] = 'test'\n",
    "x = 2.3 * np.random.randn(N, C, H, W) + 13\n",
    "a_norm, _ = spatial_batchnorm_forward(x, gamma, beta, bn_param)\n",
    "\n",
    "# Means should be close to zero and stds close to one, but will be\n",
    "# noisier than training-time forward passes.\n",
    "print('After spatial batch normalization (test-time):')\n",
    "print('  means: ', a_norm.mean(axis=(0, 2, 3)))\n",
    "print('  stds: ', a_norm.std(axis=(0, 2, 3)))"
   ]
  },
  {
   "cell_type": "markdown",
   "metadata": {},
   "source": [
    "## Spatial batch normalization: backward\n",
    "In the file `cs231n/layers.py`, implement the backward pass for spatial batch normalization in the function `spatial_batchnorm_backward`. Run the following to check your implementation using a numeric gradient check:"
   ]
  },
  {
   "cell_type": "code",
   "execution_count": null,
   "metadata": {
    "collapsed": true
   },
   "outputs": [],
   "source": [
    "np.random.seed(231)\n",
    "N, C, H, W = 2, 3, 4, 5\n",
    "x = 5 * np.random.randn(N, C, H, W) + 12\n",
    "gamma = np.random.randn(C)\n",
    "beta = np.random.randn(C)\n",
    "dout = np.random.randn(N, C, H, W)\n",
    "\n",
    "bn_param = {'mode': 'train'}\n",
    "fx = lambda x: spatial_batchnorm_forward(x, gamma, beta, bn_param)[0]\n",
    "fg = lambda a: spatial_batchnorm_forward(x, gamma, beta, bn_param)[0]\n",
    "fb = lambda b: spatial_batchnorm_forward(x, gamma, beta, bn_param)[0]\n",
    "\n",
    "dx_num = eval_numerical_gradient_array(fx, x, dout)\n",
    "da_num = eval_numerical_gradient_array(fg, gamma, dout)\n",
    "db_num = eval_numerical_gradient_array(fb, beta, dout)\n",
    "\n",
    "#You should expect errors of magnitudes between 1e-12~1e-06\n",
    "_, cache = spatial_batchnorm_forward(x, gamma, beta, bn_param)\n",
    "dx, dgamma, dbeta = spatial_batchnorm_backward(dout, cache)\n",
    "print('dx error: ', rel_error(dx_num, dx))\n",
    "print('dgamma error: ', rel_error(da_num, dgamma))\n",
    "print('dbeta error: ', rel_error(db_num, dbeta))"
   ]
  },
  {
   "cell_type": "markdown",
   "metadata": {},
   "source": [
    "# Group Normalization\n",
    "In the previous notebook, we mentioned that Layer Normalization is an alternative normalization technique that mitigates the batch size limitations of Batch Normalization. However, as the authors of [4] observed, Layer Normalization does not perform as well as Batch Normalization when used with Convolutional Layers:\n",
    "\n",
    ">With fully connected layers, all the hidden units in a layer tend to make similar contributions to the final prediction, and re-centering and rescaling the summed inputs to a layer works well. However, the assumption of similar contributions is no longer true for convolutional neural networks. The large number of the hidden units whose\n",
    "receptive fields lie near the boundary of the image are rarely turned on and thus have very different\n",
    "statistics from the rest of the hidden units within the same layer.\n",
    "\n",
    "The authors of [5] propose an intermediary technique. In contrast to Layer Normalization, where you normalize over the entire feature per-datapoint, they suggest a consistent splitting of each per-datapoint feature into G groups, and a per-group per-datapoint normalization instead. \n",
    "\n",
    "![Comparison of normalization techniques discussed so far](normalization.png)\n",
    "<center>**Visual comparison of the normalization techniques discussed so far (image edited from [5])**</center>\n",
    "\n",
    "Even though an assumption of equal contribution is still being made within each group, the authors hypothesize that this is not as problematic, as innate grouping arises within features for visual recognition. One example they use to illustrate this is that many high-performance handcrafted features in traditional Computer Vision have terms that are explicitly grouped together. Take for example Histogram of Oriented Gradients [6]-- after computing histograms per spatially local block, each per-block histogram is normalized before being concatenated together to form the final feature vector.\n",
    "\n",
    "You will now implement Group Normalization. Note that this normalization technique that you are to implement in the following cells was introduced and published to arXiv *less than a month ago* -- this truly is still an ongoing and excitingly active field of research!\n",
    "\n",
    "[4] [Ba, Jimmy Lei, Jamie Ryan Kiros, and Geoffrey E. Hinton. \"Layer Normalization.\" stat 1050 (2016): 21.](https://arxiv.org/pdf/1607.06450.pdf)\n",
    "\n",
    "\n",
    "[5] [Wu, Yuxin, and Kaiming He. \"Group Normalization.\" arXiv preprint arXiv:1803.08494 (2018).](https://arxiv.org/abs/1803.08494)\n",
    "\n",
    "\n",
    "[6] [N. Dalal and B. Triggs. Histograms of oriented gradients for\n",
    "human detection. In Computer Vision and Pattern Recognition\n",
    "(CVPR), 2005.](https://ieeexplore.ieee.org/abstract/document/1467360/)"
   ]
  },
  {
   "cell_type": "markdown",
   "metadata": {},
   "source": [
    "## Group normalization: forward\n",
    "\n",
    "In the file `cs231n/layers.py`, implement the forward pass for group normalization in the function `spatial_groupnorm_forward`. Check your implementation by running the following:"
   ]
  },
  {
   "cell_type": "code",
   "execution_count": null,
   "metadata": {
    "collapsed": true
   },
   "outputs": [],
   "source": [
    "np.random.seed(231)\n",
    "# Check the training-time forward pass by checking means and variances\n",
    "# of features both before and after spatial batch normalization\n",
    "\n",
    "N, C, H, W = 2, 6, 4, 5\n",
    "G = 2\n",
    "x = 4 * np.random.randn(N, C, H, W) + 10\n",
    "x_g = x.reshape((N*G,-1))\n",
    "print('Before spatial group normalization:')\n",
    "print('  Shape: ', x.shape)\n",
    "print('  Means: ', x_g.mean(axis=1))\n",
    "print('  Stds: ', x_g.std(axis=1))\n",
    "\n",
    "# Means should be close to zero and stds close to one\n",
    "gamma, beta = np.ones((1,C,1,1)), np.zeros((1,C,1,1))\n",
    "bn_param = {'mode': 'train'}\n",
    "\n",
    "out, _ = spatial_groupnorm_forward(x, gamma, beta, G, bn_param)\n",
    "out_g = out.reshape((N*G,-1))\n",
    "print('After spatial group normalization:')\n",
    "print('  Shape: ', out.shape)\n",
    "print('  Means: ', out_g.mean(axis=1))\n",
    "print('  Stds: ', out_g.std(axis=1))"
   ]
  },
  {
   "cell_type": "markdown",
   "metadata": {},
   "source": [
    "## Spatial group normalization: backward\n",
    "In the file `cs231n/layers.py`, implement the backward pass for spatial batch normalization in the function `spatial_groupnorm_backward`. Run the following to check your implementation using a numeric gradient check:"
   ]
  },
  {
   "cell_type": "code",
   "execution_count": null,
   "metadata": {
    "collapsed": true
   },
   "outputs": [],
   "source": [
    "np.random.seed(231)\n",
    "N, C, H, W = 2, 6, 4, 5\n",
    "G = 2\n",
    "x = 5 * np.random.randn(N, C, H, W) + 12\n",
    "gamma = np.random.randn(1,C,1,1)\n",
    "beta = np.random.randn(1,C,1,1)\n",
    "dout = np.random.randn(N, C, H, W)\n",
    "\n",
    "gn_param = {}\n",
    "fx = lambda x: spatial_groupnorm_forward(x, gamma, beta, G, gn_param)[0]\n",
    "fg = lambda a: spatial_groupnorm_forward(x, gamma, beta, G, gn_param)[0]\n",
    "fb = lambda b: spatial_groupnorm_forward(x, gamma, beta, G, gn_param)[0]\n",
    "\n",
    "dx_num = eval_numerical_gradient_array(fx, x, dout)\n",
    "da_num = eval_numerical_gradient_array(fg, gamma, dout)\n",
    "db_num = eval_numerical_gradient_array(fb, beta, dout)\n",
    "\n",
    "_, cache = spatial_groupnorm_forward(x, gamma, beta, G, gn_param)\n",
    "dx, dgamma, dbeta = spatial_groupnorm_backward(dout, cache)\n",
    "#You should expect errors of magnitudes between 1e-12~1e-07\n",
    "print('dx error: ', rel_error(dx_num, dx))\n",
    "print('dgamma error: ', rel_error(da_num, dgamma))\n",
    "print('dbeta error: ', rel_error(db_num, dbeta))"
   ]
  }
 ],
 "metadata": {
  "kernelspec": {
   "display_name": "Python 3",
   "language": "python",
   "name": "python3"
  },
  "language_info": {
   "codemirror_mode": {
    "name": "ipython",
    "version": 3
   },
   "file_extension": ".py",
   "mimetype": "text/x-python",
   "name": "python",
   "nbconvert_exporter": "python",
   "pygments_lexer": "ipython3",
   "version": "3.7.0"
  }
 },
 "nbformat": 4,
 "nbformat_minor": 2
}
